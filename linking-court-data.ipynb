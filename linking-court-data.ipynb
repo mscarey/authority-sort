{
 "cells": [
  {
   "cell_type": "markdown",
   "metadata": {},
   "source": [
    "This notebook is used to join some data about federal courts from Wikipedia tables to some other data from [Courtlistener](https://www.courtlistener.com/).\n",
    "\n",
    "To use this notebook, I downloaded \"All court data\" from https://www.courtlistener.com/api/bulk-data/courts/all.tar.gz and put it in the a subdirectory called courts-all."
   ]
  },
  {
   "cell_type": "code",
   "execution_count": 1,
   "metadata": {
    "collapsed": true
   },
   "outputs": [],
   "source": [
    "import requests\n",
    "from bs4 import BeautifulSoup"
   ]
  },
  {
   "cell_type": "code",
   "execution_count": 2,
   "metadata": {
    "collapsed": true
   },
   "outputs": [],
   "source": [
    "def loadWikiPage(pagename):\n",
    "    urls = {\"USFedCircuitComposition\" : \"https://en.m.wikipedia.org/w/index.php?title=Template:USFedCircuitComposition&mobileaction=toggle_view_mobile\",\n",
    "            \"List_of_former_United_States_district_courts\": \"https://en.m.wikipedia.org/wiki/List_of_former_United_States_district_courts\"}\n",
    "    \n",
    "    pagepath = './html/' + pagename + '.html'\n",
    "    \n",
    "    try:\n",
    "        # getting list of federal court circuits and districts from file\n",
    "        f = open(pagepath)\n",
    "        page = f.read()\n",
    "        assert len(page) > 100\n",
    "        soup = BeautifulSoup(page, 'html.parser')\n",
    "\n",
    "    except:\n",
    "        print(\"List of federal court circuits and districts not found, retrieving from Wikipedia instead\")\n",
    "        r = requests.get(urls[pagename])\n",
    "        # saving the list to a file\n",
    "        f = open(pagepath, \"w\")\n",
    "        f.write(r.text)\n",
    "        soup = BeautifulSoup(r.text, 'html.parser')\n",
    "    return soup"
   ]
  },
  {
   "cell_type": "code",
   "execution_count": 3,
   "metadata": {
    "collapsed": true
   },
   "outputs": [],
   "source": [
    "soup = loadWikiPage(\"USFedCircuitComposition\")\n",
    "\n",
    "fedTable = soup.table\n"
   ]
  },
  {
   "cell_type": "code",
   "execution_count": 4,
   "metadata": {
    "scrolled": true
   },
   "outputs": [],
   "source": [
    "# import pprint\n",
    "\n",
    "appealsTo = {}\n",
    "\n",
    "for line in fedTable.find_all(['p', 'li']):\n",
    "    if line.a.get('title') != None:\n",
    "        title = line.a.get('title').strip()\n",
    "        if title.startswith('United States Court of Appeals') and title.endswith('Circuit'):\n",
    "            circuit = title\n",
    "        if title == circuit:\n",
    "            appealsTo[title] = \"Supreme Court of the United States\"\n",
    "        else:\n",
    "            appealsTo[title] = circuit\n",
    "            \n",
    "# pprint.pprint(appealsTo)\n",
    "                "
   ]
  },
  {
   "cell_type": "code",
   "execution_count": 5,
   "metadata": {},
   "outputs": [
    {
     "data": {
      "text/plain": [
       "'United States District Court for the Northern District of Mississippi'"
      ]
     },
     "execution_count": 5,
     "metadata": {},
     "output_type": "execute_result"
    }
   ],
   "source": [
    "# Turns the CourtListener format of federal court names into the format used by Wikipedia.\n",
    "\n",
    "def longFedCircuitName(fullName):\n",
    "    if fullName.startswith(\"Court of Appeals\"):\n",
    "        fullName = fullName.replace(\"Court of Appeals\", \"United States Court of Appeals\", 1)\n",
    "    return fullName\n",
    "\n",
    "def longFedDistrictName(fullName):\n",
    "    fullName = fullName.replace(\",\", \" for the\").replace(\"D.\", \"District of\").replace(\"C.\", \"Central \").replace(\"M.\", \"Middle \")\n",
    "    fullName = fullName.replace(\"E.\", \"Eastern \").replace(\"W.\", \"Western \").replace(\"S.\", \"Southern \").replace(\"N.\", \"Northern \")\n",
    "    if fullName.endswith(\"Guam\"):\n",
    "        return \"District Court of Guam\"\n",
    "    if not fullName.endswith((\"Northern Mariana Islands\",\"Guam\",\"Virgin Islands\")):\n",
    "        if fullName.startswith(\"District Court\"):\n",
    "            fullName = fullName.replace(\"District Court\", \"United States District Court\", 1)\n",
    "    if fullName.startswith(\"Merit Systems\"):\n",
    "        fullName = fullName.replace(\"Merit Systems\", \"United States Merit Systems\", 1)\n",
    "    return fullName\n",
    "\n",
    "def longFedCourtName(fullName, j):\n",
    "    assert j in ('F', 'FD', 'FS')\n",
    "    if j in ('FD', 'FS'):\n",
    "        return longFedDistrictName(fullName)\n",
    "    if j == 'F':\n",
    "        return longFedCircuitName(fullName)\n",
    "\n",
    "longFedCourtName('District Court, N.D. Mississippi', 'FD')"
   ]
  },
  {
   "cell_type": "code",
   "execution_count": 6,
   "metadata": {
    "collapsed": true
   },
   "outputs": [],
   "source": [
    "import json, os\n",
    "\n",
    "foldername = \"./courts-all/\"\n",
    "\n",
    "courts = []\n",
    "\n",
    "for dirpath, dirnames, filenames in os.walk(foldername):\n",
    "    for filename in filenames:\n",
    "        source = foldername + filename\n",
    "        markup = open(source)\n",
    "        court = json.load(markup)\n",
    "        if \"jurisdiction\" in court:\n",
    "            if court['jurisdiction'] in ('F', 'FD', 'FS'): # will need to import other kinds of courts later\n",
    "                courts.append(court)\n",
    "\n",
    "cd = {}\n",
    "                \n",
    "for court in courts:\n",
    "    cd[longFedCourtName(court['full_name'], court['jurisdiction'])] = court\n"
   ]
  },
  {
   "cell_type": "code",
   "execution_count": 7,
   "metadata": {
    "collapsed": true
   },
   "outputs": [],
   "source": [
    "defunctSoup = loadWikiPage(\"List_of_former_United_States_district_courts\")"
   ]
  },
  {
   "cell_type": "code",
   "execution_count": 8,
   "metadata": {},
   "outputs": [
    {
     "name": "stdout",
     "output_type": "stream",
     "text": [
      "['Alabama', 'Arkansas', 'California', 'Florida', 'Georgia', 'Illinois', 'Indiana', 'Iowa', 'Kentucky', 'Louisiana', 'Michigan', 'Mississippi', 'Missouri', 'New Jersey', 'New York', 'North Carolina', 'Ohio', 'Pennsylvania', 'South Carolina', 'Tennessee', 'Texas', 'Virginia', 'Washington', 'West Virginia', 'Wisconsin']\n"
     ]
    }
   ],
   "source": [
    "courtStates = []\n",
    "\n",
    "headings = defunctSoup.find_all(\"h2\")\n",
    "for heading in headings[:-3]: # The later headings aren't states\n",
    "    if heading.span:\n",
    "        courtStates.append(heading.span.contents[0])\n",
    "\n",
    "print(courtStates)        "
   ]
  },
  {
   "cell_type": "code",
   "execution_count": 9,
   "metadata": {
    "collapsed": true,
    "scrolled": true
   },
   "outputs": [],
   "source": [
    "from datetime import datetime\n",
    "from dateutil.parser import parse\n",
    "\n",
    "def getCourtDates(table):\n",
    "    startcolumn = None\n",
    "    header = \"td\"\n",
    "    for i in range(4):\n",
    "        if str(table.find_all(header)[i].contents[0]).__contains__(\"Began active\"):\n",
    "            startcolumn = i\n",
    "    if startcolumn:\n",
    "        rows = table.find_all(\"tr\")[1:]\n",
    "        startdates = [parse(row.find_all(\"td\")[startcolumn].find_all(\"span\")[1].contents[0]) for row in rows]\n",
    "        enddates = [parse(row.find_all(\"td\")[startcolumn + 1].find_all(\"span\")[1].contents[0]) for row in rows]\n",
    "        return (min(startdates), max(enddates), )\n",
    "    else:\n",
    "        # print(str(table.find_all(header)[i].contents[0]))\n",
    "        return None\n",
    "\n",
    "def getCourtName(table, stateList):\n",
    "    name = None\n",
    "    links = table.parent.find_all(\"a\")\n",
    "    i = 0\n",
    "    while name == None:\n",
    "        if links[i].contents != []:\n",
    "            if links[i].contents[0] in stateList:\n",
    "                name = links[i].contents[0]\n",
    "        i += 1\n",
    "    return name\n",
    "\n",
    "courtDates = {}\n",
    "\n",
    "tables = defunctSoup.find_all(\"table\")\n",
    "for table in tables:\n",
    "    dates = getCourtDates(table)\n",
    "    if dates != None:\n",
    "        if getCourtName(table, courtStates) != \"South Carolina\": # Court by this name isn't defunct\n",
    "            courtDates[\"United States District Court for the District of \" + getCourtName(table, courtStates)] = {\n",
    "            \"start_date\": datetime.strftime(dates[0], '%Y-%m-%d'),\n",
    "            \"end_date\": datetime.strftime(dates[1], '%Y-%m-%d')    \n",
    "            }"
   ]
  },
  {
   "cell_type": "code",
   "execution_count": 10,
   "metadata": {},
   "outputs": [
    {
     "name": "stdout",
     "output_type": "stream",
     "text": [
      "United States District Court for the District of Arkansas not found\n"
     ]
    }
   ],
   "source": [
    "for court in courtDates.keys():\n",
    "    if court in cd.keys():\n",
    "        if cd[court][\"start_date\"] == \"\" or \"None\" or None:\n",
    "            cd[court][\"start_date\"] = courtDates[court][\"start_date\"]\n",
    "        if cd[court][\"end_date\"] == \"\" or \"None\" or None:\n",
    "            cd[court][\"end_date\"] = courtDates[court][\"end_date\"]\n",
    "    else:\n",
    "        print(str(court + \" not found\"))"
   ]
  },
  {
   "cell_type": "code",
   "execution_count": 11,
   "metadata": {},
   "outputs": [
    {
     "data": {
      "text/plain": [
       "{'citation_string': '',\n",
       " 'date_modified': '2017-03-07T23:12:38.236173Z',\n",
       " 'end_date': '1905-03-02',\n",
       " 'full_name': 'District Court, D. Washington',\n",
       " 'has_opinion_scraper': False,\n",
       " 'has_oral_argument_scraper': False,\n",
       " 'in_use': False,\n",
       " 'jurisdiction': 'FD',\n",
       " 'position': 288.0,\n",
       " 'resource_uri': 'http://www.courtlistener.com/api/rest/v3/courts/washd/',\n",
       " 'short_name': 'D. Washington',\n",
       " 'start_date': '1890-02-25',\n",
       " 'url': ''}"
      ]
     },
     "execution_count": 11,
     "metadata": {},
     "output_type": "execute_result"
    }
   ],
   "source": [
    "cd['United States District Court for the District of Washington']"
   ]
  },
  {
   "cell_type": "code",
   "execution_count": 12,
   "metadata": {
    "collapsed": true
   },
   "outputs": [],
   "source": [
    "# Adding info on defunct courts not covered by the Wikipedia table scraped above\n",
    "# the District of Missouri was assigned to the Eighth Circuit on March 3, 1837.\n",
    "\n",
    "defunctAppeals = {\"United States District Court for the District of California\": \"United States Supreme Court\",\n",
    "                 \"Emergency Court of Appeals\": \"United States Supreme Court\",\n",
    "                 'Court of Customs and Patent Appeals': \"United States Supreme Court\",\n",
    "                 'Temporary Emergency Court of Appeals': \"Supreme Court of the United States\",\n",
    "                 'United States District Court for the District of Mississippi': \"Supreme Court of the United States\",\n",
    "                 \"United States District Court for the District of Missouri\": \"United States Court of Appeals for the Eighth Circuit\",\n",
    "                 \"United States District Court for the District of New York\": \"United States Court of Appeals for the Second Circuit\"}\n",
    "\n",
    "# Non-defunct courts not listed in the Wikipedia table for whatever reason.\n",
    "\n",
    "otherAppeals = {\"Navy-Marine Corps Court of Criminal Appeals\": \"Court of Appeals for the Armed Forces\",\n",
    "               \"Board of Veterans' Appeals\": \"United States Court of Appeals for Veterans Claims\",\n",
    "               \"Foreign Intelligence Surveillance Court\": \"Foreign Intelligence Surveillance Court of Review\",\n",
    "               \"Foreign Intelligence Surveillance Court of Review\": \"United States Supreme Court\",\n",
    "               \"Court of Appeals for the Armed Forces\": \"United States Supreme Court\"}\n",
    "\n",
    "for item in defunctAppeals:\n",
    "    cd[item]['appeals_to'] = defunctAppeals[item]\n",
    "\n",
    "for item in otherAppeals:\n",
    "    cd[item]['appeals_to'] = otherAppeals[item]"
   ]
  },
  {
   "cell_type": "code",
   "execution_count": 13,
   "metadata": {},
   "outputs": [
    {
     "ename": "KeyError",
     "evalue": "'United States District Court for the District of Louisiana'",
     "output_type": "error",
     "traceback": [
      "\u001b[0;31m---------------------------------------------------------------------------\u001b[0m",
      "\u001b[0;31mKeyError\u001b[0m                                  Traceback (most recent call last)",
      "\u001b[0;32m<ipython-input-13-cf51a5f3dadc>\u001b[0m in \u001b[0;36m<module>\u001b[0;34m()\u001b[0m\n\u001b[1;32m      8\u001b[0m             \u001b[0mcd\u001b[0m\u001b[0;34m[\u001b[0m\u001b[0mcourt\u001b[0m\u001b[0;34m]\u001b[0m\u001b[0;34m[\u001b[0m\u001b[0;34m'appeals_to'\u001b[0m\u001b[0;34m]\u001b[0m \u001b[0;34m=\u001b[0m \u001b[0;32mNone\u001b[0m\u001b[0;34m\u001b[0m\u001b[0m\n\u001b[1;32m      9\u001b[0m         \u001b[0;32melse\u001b[0m\u001b[0;34m:\u001b[0m\u001b[0;34m\u001b[0m\u001b[0m\n\u001b[0;32m---> 10\u001b[0;31m             \u001b[0mcd\u001b[0m\u001b[0;34m[\u001b[0m\u001b[0mcourt\u001b[0m\u001b[0;34m]\u001b[0m\u001b[0;34m[\u001b[0m\u001b[0;34m'appeals_to'\u001b[0m\u001b[0;34m]\u001b[0m \u001b[0;34m=\u001b[0m \u001b[0mappealsTo\u001b[0m\u001b[0;34m[\u001b[0m\u001b[0mcourt\u001b[0m\u001b[0;34m]\u001b[0m\u001b[0;34m\u001b[0m\u001b[0m\n\u001b[0m",
      "\u001b[0;31mKeyError\u001b[0m: 'United States District Court for the District of Louisiana'"
     ]
    }
   ],
   "source": [
    "# This is failing because I don't have a way to handle the defunct courts\n",
    "# A comprehensive solution would capture the date range that every court appealed to every other one...\n",
    "# Remember to add WikiData URIs for each court\n",
    "                \n",
    "for court in cd:\n",
    "    if 'appeals_to' not in cd[court].keys():\n",
    "        if court == 'United States Supreme Court':\n",
    "            cd[court]['appeals_to'] = None\n",
    "        else:\n",
    "            cd[court]['appeals_to'] = appealsTo[court]"
   ]
  },
  {
   "cell_type": "code",
   "execution_count": null,
   "metadata": {
    "collapsed": true
   },
   "outputs": [],
   "source": [
    "\"\"\"import pandas as pd\n",
    "\n",
    "df = pd.DataFrame(courts)\n",
    "df = df.set_index('position').sort_index()\"\"\""
   ]
  }
 ],
 "metadata": {
  "kernelspec": {
   "display_name": "Python 3",
   "language": "python",
   "name": "python3"
  },
  "language_info": {
   "codemirror_mode": {
    "name": "ipython",
    "version": 3
   },
   "file_extension": ".py",
   "mimetype": "text/x-python",
   "name": "python",
   "nbconvert_exporter": "python",
   "pygments_lexer": "ipython3",
   "version": "3.6.1"
  }
 },
 "nbformat": 4,
 "nbformat_minor": 2
}
