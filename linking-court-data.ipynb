{
 "cells": [
  {
   "cell_type": "markdown",
   "metadata": {},
   "source": [
    "This notebook is used to join some data about federal courts from Wikipedia tables to some other data from [Courtlistener](https://www.courtlistener.com/).\n",
    "\n",
    "To use this notebook, I downloaded \"All court data\" from https://www.courtlistener.com/api/bulk-data/courts/all.tar.gz and put it in the a subdirectory called courts-all."
   ]
  },
  {
   "cell_type": "code",
   "execution_count": 1,
   "metadata": {
    "collapsed": true
   },
   "outputs": [],
   "source": [
    "import requests\n",
    "from bs4 import BeautifulSoup"
   ]
  },
  {
   "cell_type": "code",
   "execution_count": 2,
   "metadata": {
    "collapsed": true
   },
   "outputs": [],
   "source": [
    "# This scraping function could easily break if the format of the Wikipedia page changes.\n",
    "# The versions of these pages as of 2018-01-06 should work.\n",
    "\n",
    "def loadWikiPage(pagename):\n",
    "    urls = {\"USFedCircuitComposition\" : \"https://en.m.wikipedia.org/w/index.php?title=Template:USFedCircuitComposition&mobileaction=toggle_view_mobile\",\n",
    "            \"List_of_former_United_States_district_courts\": \"https://en.m.wikipedia.org/wiki/List_of_former_United_States_district_courts\"}\n",
    "    \n",
    "    pagepath = './html/' + pagename + '.html'\n",
    "    \n",
    "    try:\n",
    "        # getting list of federal court circuits and districts from file\n",
    "        f = open(pagepath)\n",
    "        page = f.read()\n",
    "        assert len(page) > 100\n",
    "        soup = BeautifulSoup(page, 'html.parser')\n",
    "\n",
    "    except:\n",
    "        print(\"List of federal court circuits and districts not found, retrieving from Wikipedia instead\")\n",
    "        r = requests.get(urls[pagename])\n",
    "        # saving the list to a file\n",
    "        f = open(pagepath, \"w\")\n",
    "        f.write(r.text)\n",
    "        soup = BeautifulSoup(r.text, 'html.parser')\n",
    "    return soup"
   ]
  },
  {
   "cell_type": "code",
   "execution_count": 3,
   "metadata": {
    "collapsed": true
   },
   "outputs": [],
   "source": [
    "# Getting a list of heirarchical relationships between courts, from Wikipedia.\n",
    "\n",
    "soup = loadWikiPage(\"USFedCircuitComposition\")\n",
    "\n",
    "fedTable = soup.table\n"
   ]
  },
  {
   "cell_type": "code",
   "execution_count": 4,
   "metadata": {
    "collapsed": true,
    "scrolled": true
   },
   "outputs": [],
   "source": [
    "# Creating the appealsTo dict of heirarchical relationships between courts, from the Wikipedia data.\n",
    "\n",
    "# import pprint\n",
    "\n",
    "appealsTo = {}\n",
    "\n",
    "for line in fedTable.find_all(['p', 'li']):\n",
    "    if line.a.get('title') != None:\n",
    "        title = line.a.get('title').strip()\n",
    "        if title.startswith('United States Court of Appeals') and title.endswith('Circuit'):\n",
    "            circuit = title\n",
    "        if title == circuit:\n",
    "            appealsTo[title] = \"Supreme Court of the United States\"\n",
    "        else:\n",
    "            appealsTo[title] = circuit\n",
    "            \n",
    "# pprint.pprint(appealsTo)\n",
    "                "
   ]
  },
  {
   "cell_type": "code",
   "execution_count": 5,
   "metadata": {},
   "outputs": [],
   "source": [
    "import time\n",
    "\n",
    "ordinals = (\"first\",\"second\",\"third\",\"fourth\",\"fifth\",\"sixth\",\"seventh\",\"eighth\",\"ninth\",\"tenth\",\"eleventh\")\n",
    "\n",
    "def loadFJCPage(ordinal):\n",
    "\n",
    "    pagename = 'federal-judicial-circuits-{0}-circuit'.format(ordinal)\n",
    "    pagepath = './html/' + pagename\n",
    "    \n",
    "    try:\n",
    "        # getting list of federal court circuits and states from file\n",
    "        f = open(pagepath)\n",
    "        page = f.read()\n",
    "        assert len(page) > 100\n",
    "        soup = BeautifulSoup(page, 'html.parser')\n",
    "\n",
    "    except:\n",
    "        print(\"List of federal court circuits and districts not found, retrieving from fjc.gov instead\")\n",
    "        url = \"https://www.fjc.gov/history/administration/\" + pagename\n",
    "        r = requests.get(url, timeout=5)\n",
    "        # saving the list to a file\n",
    "        f = open(pagepath, \"w\")\n",
    "        f.write(r.text)\n",
    "        soup = BeautifulSoup(r.text, 'html.parser')\n",
    "        time.sleep(1)\n",
    "    return soup\n"
   ]
  },
  {
   "cell_type": "code",
   "execution_count": 6,
   "metadata": {},
   "outputs": [
    {
     "data": {
      "text/plain": [
       "['1801', 'Maine, Massachusetts, New Hampshire, Rhode Island. (2 Stat. 89)']"
      ]
     },
     "execution_count": 6,
     "metadata": {},
     "output_type": "execute_result"
    }
   ],
   "source": [
    "'1801: Maine, Massachusetts, New Hampshire, Rhode Island. (2 Stat. 89)'.split(\": \")"
   ]
  },
  {
   "cell_type": "code",
   "execution_count": 7,
   "metadata": {},
   "outputs": [
    {
     "name": "stdout",
     "output_type": "stream",
     "text": [
      "{'Maine': {datetime.datetime(1801, 1, 1, 0, 0): 'First', datetime.datetime(1820, 1, 1, 0, 0): 'First', datetime.datetime(1915, 1, 1, 0, 0): 'First'}, 'Massachusetts': {datetime.datetime(1801, 1, 1, 0, 0): 'First', datetime.datetime(1802, 1, 1, 0, 0): 'First', datetime.datetime(1820, 1, 1, 0, 0): 'First', datetime.datetime(1915, 1, 1, 0, 0): 'First'}, 'New Hampshire': {datetime.datetime(1801, 1, 1, 0, 0): 'First', datetime.datetime(1802, 1, 1, 0, 0): 'First', datetime.datetime(1820, 1, 1, 0, 0): 'First', datetime.datetime(1915, 1, 1, 0, 0): 'First'}, 'Rhode Island': {datetime.datetime(1801, 1, 1, 0, 0): 'First', datetime.datetime(1802, 1, 1, 0, 0): 'First', datetime.datetime(1820, 1, 1, 0, 0): 'First', datetime.datetime(1915, 1, 1, 0, 0): 'First'}, 'Puerto Rico': {datetime.datetime(1915, 1, 1, 0, 0): 'First'}, 'Connecticut': {datetime.datetime(1801, 1, 1, 0, 0): 'Second'}, 'New York': {datetime.datetime(1801, 1, 1, 0, 0): 'Second'}, 'Vermont': {datetime.datetime(1801, 1, 1, 0, 0): 'Second'}, 'Delaware': {datetime.datetime(1801, 1, 1, 0, 0): 'Third', datetime.datetime(1866, 1, 1, 0, 0): 'Third', datetime.datetime(1948, 1, 1, 0, 0): 'Third', datetime.datetime(1802, 1, 1, 0, 0): 'Fourth', datetime.datetime(1842, 1, 1, 0, 0): 'Fourth', datetime.datetime(1862, 1, 1, 0, 0): 'Fourth', datetime.datetime(1864, 1, 1, 0, 0): 'Fourth'}, 'New Jersey': {datetime.datetime(1801, 1, 1, 0, 0): 'Third', datetime.datetime(1802, 1, 1, 0, 0): 'Third', datetime.datetime(1866, 1, 1, 0, 0): 'Third', datetime.datetime(1948, 1, 1, 0, 0): 'Third'}, 'Pennsylvania': {datetime.datetime(1801, 1, 1, 0, 0): 'Third', datetime.datetime(1802, 1, 1, 0, 0): 'Third', datetime.datetime(1866, 1, 1, 0, 0): 'Third', datetime.datetime(1948, 1, 1, 0, 0): 'Third'}, 'Virgin Islands': {datetime.datetime(1948, 1, 1, 0, 0): 'Third'}, 'Maryland': {datetime.datetime(1801, 1, 1, 0, 0): 'Fourth', datetime.datetime(1802, 1, 1, 0, 0): 'Fourth', datetime.datetime(1842, 1, 1, 0, 0): 'Fourth', datetime.datetime(1862, 1, 1, 0, 0): 'Fourth', datetime.datetime(1864, 1, 1, 0, 0): 'Fourth', datetime.datetime(1866, 1, 1, 0, 0): 'Fourth'}, 'Virginia': {datetime.datetime(1801, 1, 1, 0, 0): 'Fourth', datetime.datetime(1842, 1, 1, 0, 0): 'Fourth', datetime.datetime(1862, 1, 1, 0, 0): 'Fourth', datetime.datetime(1864, 1, 1, 0, 0): 'Fourth', datetime.datetime(1866, 1, 1, 0, 0): 'Fourth', datetime.datetime(1802, 1, 1, 0, 0): 'Fifth'}, 'North Carolina': {datetime.datetime(1862, 1, 1, 0, 0): 'Fourth', datetime.datetime(1864, 1, 1, 0, 0): 'Fourth', datetime.datetime(1866, 1, 1, 0, 0): 'Fourth', datetime.datetime(1801, 1, 1, 0, 0): 'Fifth', datetime.datetime(1802, 1, 1, 0, 0): 'Fifth', datetime.datetime(1842, 1, 1, 0, 0): 'Sixth'}, 'West Virginia': {datetime.datetime(1864, 1, 1, 0, 0): 'Fourth', datetime.datetime(1866, 1, 1, 0, 0): 'Fourth'}, 'South Carolina': {datetime.datetime(1866, 1, 1, 0, 0): 'Fourth', datetime.datetime(1801, 1, 1, 0, 0): 'Fifth', datetime.datetime(1862, 1, 1, 0, 0): 'Fifth', datetime.datetime(1802, 1, 1, 0, 0): 'Sixth', datetime.datetime(1842, 1, 1, 0, 0): 'Sixth'}, 'Georgia': {datetime.datetime(1801, 1, 1, 0, 0): 'Fifth', datetime.datetime(1862, 1, 1, 0, 0): 'Fifth', datetime.datetime(1866, 1, 1, 0, 0): 'Fifth', datetime.datetime(1948, 1, 1, 0, 0): 'Fifth', datetime.datetime(1802, 1, 1, 0, 0): 'Sixth', datetime.datetime(1842, 1, 1, 0, 0): 'Sixth', datetime.datetime(1980, 1, 1, 0, 0): 'Eleventh'}, 'Alabama': {datetime.datetime(1842, 1, 1, 0, 0): 'Fifth', datetime.datetime(1862, 1, 1, 0, 0): 'Fifth', datetime.datetime(1866, 1, 1, 0, 0): 'Fifth', datetime.datetime(1948, 1, 1, 0, 0): 'Fifth', datetime.datetime(1837, 1, 1, 0, 0): 'Ninth', datetime.datetime(1980, 1, 1, 0, 0): 'Eleventh'}, 'Louisiana': {datetime.datetime(1842, 1, 1, 0, 0): 'Fifth', datetime.datetime(1866, 1, 1, 0, 0): 'Fifth', datetime.datetime(1948, 1, 1, 0, 0): 'Fifth', datetime.datetime(1980, 1, 1, 0, 0): 'Fifth', datetime.datetime(1982, 1, 1, 0, 0): 'Fifth', datetime.datetime(1862, 1, 1, 0, 0): 'Sixth', datetime.datetime(1837, 1, 1, 0, 0): 'Ninth'}, 'Florida': {datetime.datetime(1862, 1, 1, 0, 0): 'Fifth', datetime.datetime(1866, 1, 1, 0, 0): 'Fifth', datetime.datetime(1948, 1, 1, 0, 0): 'Fifth', datetime.datetime(1980, 1, 1, 0, 0): 'Eleventh'}, 'Mississippi': {datetime.datetime(1862, 1, 1, 0, 0): 'Fifth', datetime.datetime(1866, 1, 1, 0, 0): 'Fifth', datetime.datetime(1948, 1, 1, 0, 0): 'Fifth', datetime.datetime(1980, 1, 1, 0, 0): 'Fifth', datetime.datetime(1982, 1, 1, 0, 0): 'Fifth', datetime.datetime(1837, 1, 1, 0, 0): 'Ninth', datetime.datetime(1842, 1, 1, 0, 0): 'Ninth'}, 'Texas': {datetime.datetime(1866, 1, 1, 0, 0): 'Fifth', datetime.datetime(1948, 1, 1, 0, 0): 'Fifth', datetime.datetime(1980, 1, 1, 0, 0): 'Fifth', datetime.datetime(1982, 1, 1, 0, 0): 'Fifth', datetime.datetime(1862, 1, 1, 0, 0): 'Sixth'}, 'Canal Zone': {datetime.datetime(1948, 1, 1, 0, 0): 'Fifth', datetime.datetime(1980, 1, 1, 0, 0): 'Fifth'}, 'Kentucky': {datetime.datetime(1801, 1, 1, 0, 0): 'Sixth', datetime.datetime(1862, 1, 1, 0, 0): 'Sixth', datetime.datetime(1866, 1, 1, 0, 0): 'Sixth', datetime.datetime(1807, 1, 1, 0, 0): 'Seventh', datetime.datetime(1837, 1, 1, 0, 0): 'Eighth'}, 'Ohio (encompassing Territory Northwest of Ohio and Indiana Territory)': {datetime.datetime(1801, 1, 1, 0, 0): 'Sixth'}, 'Tennessee': {datetime.datetime(1801, 1, 1, 0, 0): 'Sixth', datetime.datetime(1862, 1, 1, 0, 0): 'Sixth', datetime.datetime(1866, 1, 1, 0, 0): 'Sixth', datetime.datetime(1807, 1, 1, 0, 0): 'Seventh', datetime.datetime(1837, 1, 1, 0, 0): 'Eighth'}, 'Arkansas': {datetime.datetime(1862, 1, 1, 0, 0): 'Sixth', datetime.datetime(1866, 1, 1, 0, 0): 'Eighth', datetime.datetime(1867, 1, 1, 0, 0): 'Eighth', datetime.datetime(1876, 1, 1, 0, 0): 'Eighth', datetime.datetime(1889, 1, 1, 0, 0): 'Eighth', datetime.datetime(1890, 1, 1, 0, 0): 'Eighth', datetime.datetime(1896, 1, 1, 0, 0): 'Eighth', datetime.datetime(1907, 1, 1, 0, 0): 'Eighth', datetime.datetime(1912, 1, 1, 0, 0): 'Eighth', datetime.datetime(1929, 1, 1, 0, 0): 'Eighth', datetime.datetime(1837, 1, 1, 0, 0): 'Ninth', datetime.datetime(1842, 1, 1, 0, 0): 'Ninth'}, 'Michigan': {datetime.datetime(1866, 1, 1, 0, 0): 'Sixth', datetime.datetime(1837, 1, 1, 0, 0): 'Seventh', datetime.datetime(1863, 1, 1, 0, 0): 'Seventh', datetime.datetime(1862, 1, 1, 0, 0): 'Eighth'}, 'Ohio': {datetime.datetime(1866, 1, 1, 0, 0): 'Sixth', datetime.datetime(1807, 1, 1, 0, 0): 'Seventh', datetime.datetime(1837, 1, 1, 0, 0): 'Seventh', datetime.datetime(1862, 1, 1, 0, 0): 'Seventh', datetime.datetime(1863, 1, 1, 0, 0): 'Seventh'}, 'Illinois': {datetime.datetime(1837, 1, 1, 0, 0): 'Seventh', datetime.datetime(1866, 1, 1, 0, 0): 'Seventh', datetime.datetime(1862, 1, 1, 0, 0): 'Eighth', datetime.datetime(1863, 1, 1, 0, 0): 'Eighth'}, 'Indiana': {datetime.datetime(1837, 1, 1, 0, 0): 'Seventh', datetime.datetime(1862, 1, 1, 0, 0): 'Seventh', datetime.datetime(1866, 1, 1, 0, 0): 'Seventh', datetime.datetime(1863, 1, 1, 0, 0): 'Eighth'}, 'Wisconsin': {datetime.datetime(1866, 1, 1, 0, 0): 'Seventh', datetime.datetime(1862, 1, 1, 0, 0): 'Eighth', datetime.datetime(1863, 1, 1, 0, 0): 'Eighth'}, 'Missouri': {datetime.datetime(1837, 1, 1, 0, 0): 'Eighth', datetime.datetime(1866, 1, 1, 0, 0): 'Eighth', datetime.datetime(1867, 1, 1, 0, 0): 'Eighth', datetime.datetime(1876, 1, 1, 0, 0): 'Eighth', datetime.datetime(1889, 1, 1, 0, 0): 'Eighth', datetime.datetime(1890, 1, 1, 0, 0): 'Eighth', datetime.datetime(1896, 1, 1, 0, 0): 'Eighth', datetime.datetime(1907, 1, 1, 0, 0): 'Eighth', datetime.datetime(1912, 1, 1, 0, 0): 'Eighth', datetime.datetime(1929, 1, 1, 0, 0): 'Eighth', datetime.datetime(1862, 1, 1, 0, 0): 'Ninth'}, 'Iowa': {datetime.datetime(1866, 1, 1, 0, 0): 'Eighth', datetime.datetime(1867, 1, 1, 0, 0): 'Eighth', datetime.datetime(1876, 1, 1, 0, 0): 'Eighth', datetime.datetime(1889, 1, 1, 0, 0): 'Eighth', datetime.datetime(1890, 1, 1, 0, 0): 'Eighth', datetime.datetime(1896, 1, 1, 0, 0): 'Eighth', datetime.datetime(1907, 1, 1, 0, 0): 'Eighth', datetime.datetime(1912, 1, 1, 0, 0): 'Eighth', datetime.datetime(1929, 1, 1, 0, 0): 'Eighth', datetime.datetime(1862, 1, 1, 0, 0): 'Ninth'}, 'Kansas': {datetime.datetime(1866, 1, 1, 0, 0): 'Eighth', datetime.datetime(1867, 1, 1, 0, 0): 'Eighth', datetime.datetime(1876, 1, 1, 0, 0): 'Eighth', datetime.datetime(1889, 1, 1, 0, 0): 'Eighth', datetime.datetime(1890, 1, 1, 0, 0): 'Eighth', datetime.datetime(1896, 1, 1, 0, 0): 'Eighth', datetime.datetime(1907, 1, 1, 0, 0): 'Eighth', datetime.datetime(1912, 1, 1, 0, 0): 'Eighth', datetime.datetime(1862, 1, 1, 0, 0): 'Ninth', datetime.datetime(1929, 1, 1, 0, 0): 'Tenth'}, 'Minnesota': {datetime.datetime(1866, 1, 1, 0, 0): 'Eighth', datetime.datetime(1867, 1, 1, 0, 0): 'Eighth', datetime.datetime(1876, 1, 1, 0, 0): 'Eighth', datetime.datetime(1889, 1, 1, 0, 0): 'Eighth', datetime.datetime(1890, 1, 1, 0, 0): 'Eighth', datetime.datetime(1896, 1, 1, 0, 0): 'Eighth', datetime.datetime(1907, 1, 1, 0, 0): 'Eighth', datetime.datetime(1912, 1, 1, 0, 0): 'Eighth', datetime.datetime(1929, 1, 1, 0, 0): 'Eighth', datetime.datetime(1862, 1, 1, 0, 0): 'Ninth'}, 'Nebraska': {datetime.datetime(1867, 1, 1, 0, 0): 'Eighth', datetime.datetime(1876, 1, 1, 0, 0): 'Eighth', datetime.datetime(1889, 1, 1, 0, 0): 'Eighth', datetime.datetime(1890, 1, 1, 0, 0): 'Eighth', datetime.datetime(1896, 1, 1, 0, 0): 'Eighth', datetime.datetime(1907, 1, 1, 0, 0): 'Eighth', datetime.datetime(1912, 1, 1, 0, 0): 'Eighth', datetime.datetime(1929, 1, 1, 0, 0): 'Eighth'}, 'Colorado': {datetime.datetime(1876, 1, 1, 0, 0): 'Eighth', datetime.datetime(1889, 1, 1, 0, 0): 'Eighth', datetime.datetime(1890, 1, 1, 0, 0): 'Eighth', datetime.datetime(1896, 1, 1, 0, 0): 'Eighth', datetime.datetime(1907, 1, 1, 0, 0): 'Eighth', datetime.datetime(1912, 1, 1, 0, 0): 'Eighth', datetime.datetime(1929, 1, 1, 0, 0): 'Tenth'}, 'North Dakota': {datetime.datetime(1889, 1, 1, 0, 0): 'Eighth', datetime.datetime(1890, 1, 1, 0, 0): 'Eighth', datetime.datetime(1896, 1, 1, 0, 0): 'Eighth', datetime.datetime(1907, 1, 1, 0, 0): 'Eighth', datetime.datetime(1912, 1, 1, 0, 0): 'Eighth', datetime.datetime(1929, 1, 1, 0, 0): 'Eighth'}, 'South Dakota': {datetime.datetime(1889, 1, 1, 0, 0): 'Eighth', datetime.datetime(1890, 1, 1, 0, 0): 'Eighth', datetime.datetime(1896, 1, 1, 0, 0): 'Eighth', datetime.datetime(1907, 1, 1, 0, 0): 'Eighth', datetime.datetime(1912, 1, 1, 0, 0): 'Eighth', datetime.datetime(1929, 1, 1, 0, 0): 'Eighth'}, 'Wyoming': {datetime.datetime(1890, 1, 1, 0, 0): 'Eighth', datetime.datetime(1896, 1, 1, 0, 0): 'Eighth', datetime.datetime(1907, 1, 1, 0, 0): 'Eighth', datetime.datetime(1912, 1, 1, 0, 0): 'Eighth', datetime.datetime(1929, 1, 1, 0, 0): 'Tenth'}, 'Utah': {datetime.datetime(1896, 1, 1, 0, 0): 'Eighth', datetime.datetime(1907, 1, 1, 0, 0): 'Eighth', datetime.datetime(1912, 1, 1, 0, 0): 'Eighth', datetime.datetime(1929, 1, 1, 0, 0): 'Tenth'}, 'Oklahoma': {datetime.datetime(1907, 1, 1, 0, 0): 'Eighth', datetime.datetime(1912, 1, 1, 0, 0): 'Eighth', datetime.datetime(1929, 1, 1, 0, 0): 'Tenth'}, 'New Mexico': {datetime.datetime(1912, 1, 1, 0, 0): 'Eighth', datetime.datetime(1929, 1, 1, 0, 0): 'Tenth'}, 'California': {datetime.datetime(1866, 1, 1, 0, 0): 'Ninth', datetime.datetime(1889, 1, 1, 0, 0): 'Ninth', datetime.datetime(1890, 1, 1, 0, 0): 'Ninth', datetime.datetime(1900, 1, 1, 0, 0): 'Ninth', datetime.datetime(1912, 1, 1, 0, 0): 'Ninth', datetime.datetime(1951, 1, 1, 0, 0): 'Ninth', datetime.datetime(1959, 1, 1, 0, 0): 'Ninth', datetime.datetime(1977, 1, 1, 0, 0): 'Ninth', datetime.datetime(1863, 1, 1, 0, 0): 'Tenth', datetime.datetime(1865, 1, 1, 0, 0): 'Tenth'}, 'Nevada': {datetime.datetime(1866, 1, 1, 0, 0): 'Ninth', datetime.datetime(1889, 1, 1, 0, 0): 'Ninth', datetime.datetime(1890, 1, 1, 0, 0): 'Ninth', datetime.datetime(1900, 1, 1, 0, 0): 'Ninth', datetime.datetime(1912, 1, 1, 0, 0): 'Ninth', datetime.datetime(1951, 1, 1, 0, 0): 'Ninth', datetime.datetime(1959, 1, 1, 0, 0): 'Ninth', datetime.datetime(1977, 1, 1, 0, 0): 'Ninth', datetime.datetime(1865, 1, 1, 0, 0): 'Tenth'}, 'Oregon': {datetime.datetime(1866, 1, 1, 0, 0): 'Ninth', datetime.datetime(1889, 1, 1, 0, 0): 'Ninth', datetime.datetime(1890, 1, 1, 0, 0): 'Ninth', datetime.datetime(1900, 1, 1, 0, 0): 'Ninth', datetime.datetime(1912, 1, 1, 0, 0): 'Ninth', datetime.datetime(1951, 1, 1, 0, 0): 'Ninth', datetime.datetime(1959, 1, 1, 0, 0): 'Ninth', datetime.datetime(1977, 1, 1, 0, 0): 'Ninth', datetime.datetime(1863, 1, 1, 0, 0): 'Tenth', datetime.datetime(1865, 1, 1, 0, 0): 'Tenth'}, 'Montana': {datetime.datetime(1889, 1, 1, 0, 0): 'Ninth', datetime.datetime(1890, 1, 1, 0, 0): 'Ninth', datetime.datetime(1900, 1, 1, 0, 0): 'Ninth', datetime.datetime(1912, 1, 1, 0, 0): 'Ninth', datetime.datetime(1951, 1, 1, 0, 0): 'Ninth', datetime.datetime(1959, 1, 1, 0, 0): 'Ninth', datetime.datetime(1977, 1, 1, 0, 0): 'Ninth'}, 'Washington': {datetime.datetime(1889, 1, 1, 0, 0): 'Ninth', datetime.datetime(1890, 1, 1, 0, 0): 'Ninth', datetime.datetime(1900, 1, 1, 0, 0): 'Ninth', datetime.datetime(1912, 1, 1, 0, 0): 'Ninth', datetime.datetime(1951, 1, 1, 0, 0): 'Ninth', datetime.datetime(1959, 1, 1, 0, 0): 'Ninth', datetime.datetime(1977, 1, 1, 0, 0): 'Ninth'}, 'Idaho': {datetime.datetime(1890, 1, 1, 0, 0): 'Ninth', datetime.datetime(1900, 1, 1, 0, 0): 'Ninth', datetime.datetime(1912, 1, 1, 0, 0): 'Ninth', datetime.datetime(1951, 1, 1, 0, 0): 'Ninth', datetime.datetime(1959, 1, 1, 0, 0): 'Ninth', datetime.datetime(1977, 1, 1, 0, 0): 'Ninth'}, ' Alaska': {datetime.datetime(1900, 1, 1, 0, 0): 'Ninth', datetime.datetime(1912, 1, 1, 0, 0): 'Ninth', datetime.datetime(1951, 1, 1, 0, 0): 'Ninth'}, ' Hawaii': {datetime.datetime(1900, 1, 1, 0, 0): 'Ninth', datetime.datetime(1912, 1, 1, 0, 0): 'Ninth', datetime.datetime(1951, 1, 1, 0, 0): 'Ninth'}, 'Arizona': {datetime.datetime(1912, 1, 1, 0, 0): 'Ninth', datetime.datetime(1951, 1, 1, 0, 0): 'Ninth', datetime.datetime(1959, 1, 1, 0, 0): 'Ninth', datetime.datetime(1977, 1, 1, 0, 0): 'Ninth'}, ' Guam': {datetime.datetime(1951, 1, 1, 0, 0): 'Ninth', datetime.datetime(1959, 1, 1, 0, 0): 'Ninth', datetime.datetime(1977, 1, 1, 0, 0): 'Ninth'}, 'Alaska': {datetime.datetime(1959, 1, 1, 0, 0): 'Ninth', datetime.datetime(1977, 1, 1, 0, 0): 'Ninth'}, 'Hawaii': {datetime.datetime(1959, 1, 1, 0, 0): 'Ninth', datetime.datetime(1977, 1, 1, 0, 0): 'Ninth'}, ' Northern Mariana Islands': {datetime.datetime(1977, 1, 1, 0, 0): 'Ninth'}, 'Tenth Circuit abolished': {datetime.datetime(1866, 1, 1, 0, 0): 'Tenth'}}\n"
     ]
    }
   ],
   "source": [
    "import re\n",
    "from datetime import datetime\n",
    "from dateutil.parser import parse\n",
    "\n",
    "circuitHistory = {}\n",
    "\n",
    "def formatState(s):\n",
    "    s = s.strip().replace(\"District of \", \"\").replace(\"Territory of\", \"\").replace(\" the\", \"\")\\\n",
    "    .replace(\" (encompassing the Territory Northwest of the Ohio and the Indiana Territory)\", \"\")\n",
    "    return s\n",
    "    \n",
    "def parseCircuitList(s):\n",
    "    \"\"\"\n",
    "    Parses lists of states' judicial circuit assignments, scraped from\n",
    "    https://www.fjc.gov/history/administration/federal-judicial-circuits.\n",
    "    Output is a list of years with the corresponding circuit the court was assigned\n",
    "    to in that year.\n",
    "    \"\"\"\n",
    "    \n",
    "    year = s.split(\": \")\n",
    "    states = year[1].split(\". (\")\n",
    "    year = parse(year[0] + \"-01-01\") # TODO: add the correct dates, not January 1\n",
    "    citation = re.search('(\\d+ Stat\\. \\d+)', states[1])\n",
    "    states = [formatState(state) for state in states[0].split(\",\")]\n",
    "    return [(state, year) for state in states]\n",
    "    \n",
    "for o in ordinals:\n",
    "    soup = loadFJCPage(o)\n",
    "    a = soup.find_all('li', attrs={'class': None}, string=re.compile(\":\"))\n",
    "    for line in a:\n",
    "        entries = parseCircuitList(line.contents[0].string)\n",
    "        for entry in entries:\n",
    "            if entry[0] not in circuitHistory:\n",
    "                circuitHistory[entry[0]] = {}\n",
    "            circuitHistory[entry[0]][entry[1]] = o.capitalize()\n",
    "        \n",
    "print(circuitHistory)"
   ]
  },
  {
   "cell_type": "code",
   "execution_count": 8,
   "metadata": {},
   "outputs": [
    {
     "data": {
      "text/plain": [
       "'United States District Court for the Northern District of Mississippi'"
      ]
     },
     "execution_count": 8,
     "metadata": {},
     "output_type": "execute_result"
    }
   ],
   "source": [
    "# Turns the CourtListener format of federal court names into the format used by Wikipedia.\n",
    "\n",
    "def longFedCircuitName(fullName):\n",
    "    if fullName.startswith(\"Court of Appeals\"):\n",
    "        fullName = fullName.replace(\"Court of Appeals\", \"United States Court of Appeals\", 1)\n",
    "    fullName = fullName.replace(\"D.C.\", \"District of Columbia\")\n",
    "    return fullName\n",
    "\n",
    "def longFedDistrictName(fullName):\n",
    "    fullName = fullName.replace(\",\", \" for the\").replace(\"D.\", \"District of\").replace(\"C.\", \"Central \").replace(\"M.\", \"Middle \")\n",
    "    fullName = fullName.replace(\"E.\", \"Eastern \").replace(\"W.\", \"Western \").replace(\"S.\", \"Southern \").replace(\"N.\", \"Northern \")\n",
    "    fullName = fullName.replace('District Court for the Orleans',\n",
    "                                'District Court for the District of Orleans')\n",
    "    fullName = fullName.replace('District Court for the Virgin Islands', \"District Court of the Virgin Islands\")\n",
    "    if fullName.endswith(\"Guam\"):\n",
    "        return \"District Court of Guam\"\n",
    "    if not fullName.endswith((\"Northern Mariana Islands\",\"Guam\",\"Virgin Islands\")):\n",
    "        if fullName.startswith(\"District Court\"):\n",
    "            fullName = fullName.replace(\"District Court\", \"United States District Court\", 1)\n",
    "    if fullName.startswith(\"Merit Systems\"):\n",
    "        fullName = fullName.replace(\"Merit Systems\", \"United States Merit Systems\", 1)\n",
    "    return fullName\n",
    "\n",
    "def longFedCourtName(fullName, j):\n",
    "    assert j in ('F', 'FD', 'FS')\n",
    "    if j in ('FD', 'FS'):\n",
    "        return longFedDistrictName(fullName)\n",
    "    if j == 'F':\n",
    "        return longFedCircuitName(fullName)\n",
    "\n",
    "longFedCourtName('District Court, N.D. Mississippi', 'FD')"
   ]
  },
  {
   "cell_type": "code",
   "execution_count": 9,
   "metadata": {
    "collapsed": true
   },
   "outputs": [],
   "source": [
    "import json, os\n",
    "\n",
    "foldername = \"./courts-all/\"\n",
    "\n",
    "courts = []\n",
    "\n",
    "for dirpath, dirnames, filenames in os.walk(foldername):\n",
    "    for filename in filenames:\n",
    "        source = foldername + filename\n",
    "        markup = open(source)\n",
    "        court = json.load(markup)\n",
    "        if \"jurisdiction\" in court:\n",
    "            if court['citation_string'] in ('Mo. S.D.', 'C.D. Mo.'):\n",
    "                court['jurisdiction'] = 'SA' # correcting an error in Courtlistener data, they're state courts.\n",
    "            if court['jurisdiction'] in ('F', 'FD', 'FS'): # will need to import other kinds of courts later\n",
    "                courts.append(court)\n",
    "\n",
    "cd = {}\n",
    "                \n",
    "for court in courts:\n",
    "    cd[longFedCourtName(court['full_name'], court['jurisdiction'])] = court\n"
   ]
  },
  {
   "cell_type": "code",
   "execution_count": null,
   "metadata": {
    "collapsed": true
   },
   "outputs": [],
   "source": []
  },
  {
   "cell_type": "code",
   "execution_count": 10,
   "metadata": {},
   "outputs": [
    {
     "data": {
      "text/plain": [
       "{'citation_string': 'S.D. Tex.',\n",
       " 'date_modified': '2013-10-22T15:56:25.488000Z',\n",
       " 'end_date': None,\n",
       " 'full_name': 'District Court, S.D. Texas',\n",
       " 'has_opinion_scraper': False,\n",
       " 'has_oral_argument_scraper': False,\n",
       " 'in_use': True,\n",
       " 'jurisdiction': 'FD',\n",
       " 'position': 250.5,\n",
       " 'resource_uri': 'http://www.courtlistener.com/api/rest/v3/courts/txsd/',\n",
       " 'short_name': 'S.D. Texas',\n",
       " 'start_date': None,\n",
       " 'url': 'http://www.txs.uscourts.gov/'}"
      ]
     },
     "execution_count": 10,
     "metadata": {},
     "output_type": "execute_result"
    }
   ],
   "source": [
    "cd[\"United States District Court for the Southern District of Texas\"]"
   ]
  },
  {
   "cell_type": "code",
   "execution_count": 11,
   "metadata": {},
   "outputs": [],
   "source": [
    "defunctSoup = loadWikiPage(\"List_of_former_United_States_district_courts\")"
   ]
  },
  {
   "cell_type": "code",
   "execution_count": 12,
   "metadata": {},
   "outputs": [
    {
     "name": "stdout",
     "output_type": "stream",
     "text": [
      "['Alabama', 'Arkansas', 'California', 'Florida', 'Georgia', 'Illinois', 'Indiana', 'Iowa', 'Kentucky', 'Louisiana', 'Michigan', 'Mississippi', 'Missouri', 'New Jersey', 'New York', 'North Carolina', 'Ohio', 'Pennsylvania', 'South Carolina', 'Tennessee', 'Texas', 'Virginia', 'Washington', 'West Virginia', 'Wisconsin']\n"
     ]
    }
   ],
   "source": [
    "courtStates = []\n",
    "\n",
    "headings = defunctSoup.find_all(\"h2\")\n",
    "for heading in headings[:-3]: # The later headings aren't states\n",
    "    if heading.span:\n",
    "        courtStates.append(heading.span.contents[0])\n",
    "\n",
    "print(courtStates)        "
   ]
  },
  {
   "cell_type": "code",
   "execution_count": 13,
   "metadata": {
    "collapsed": true,
    "scrolled": true
   },
   "outputs": [],
   "source": [
    "\n",
    "def getCourtDates(table):\n",
    "    \"\"\"\n",
    "    Returns a tuple with a defunct court's start and end dates from a table scraped from\n",
    "    https://en.wikipedia.org/wiki/List_of_former_United_States_district_courts. Assumes that the beginning of the\n",
    "    first judge's service is the start date and end of the last judge's service is the end date.\n",
    "    \"\"\"\n",
    "    startcolumn = None\n",
    "    header = \"td\"\n",
    "    for i in range(4):\n",
    "        if str(table.find_all(header)[i].contents[0]).__contains__(\"Began active\"):\n",
    "            startcolumn = i\n",
    "    if startcolumn:\n",
    "        rows = table.find_all(\"tr\")[1:]\n",
    "        startdates = [parse(row.find_all(\"td\")[startcolumn].find_all(\"span\")[1].contents[0]) for row in rows]\n",
    "        enddates = [parse(row.find_all(\"td\")[startcolumn + 1].find_all(\"span\")[1].contents[0]) for row in rows]\n",
    "        return (min(startdates), max(enddates), )\n",
    "    else:\n",
    "        # print(str(table.find_all(header)[i].contents[0]))\n",
    "        return None\n",
    "\n",
    "def getCourtName(table, stateList):\n",
    "    name = None\n",
    "    links = table.parent.find_all(\"a\")\n",
    "    i = 0\n",
    "    while name == None:\n",
    "        if links[i].contents != []:\n",
    "            if links[i].contents[0] in stateList:\n",
    "                name = links[i].contents[0]\n",
    "        i += 1\n",
    "    return name\n",
    "\n",
    "courtDates = {}\n",
    "\n",
    "tables = defunctSoup.find_all(\"table\")\n",
    "for table in tables:\n",
    "    dates = getCourtDates(table)\n",
    "    if dates != None:\n",
    "        if getCourtName(table, courtStates) != \"South Carolina\": # Court by this name isn't defunct\n",
    "            courtDates[\"United States District Court for the District of \" + getCourtName(table, courtStates)] = {\n",
    "            \"start_date\": datetime.strftime(dates[0], '%Y-%m-%d'),\n",
    "            \"end_date\": datetime.strftime(dates[1], '%Y-%m-%d')    \n",
    "            }"
   ]
  },
  {
   "cell_type": "code",
   "execution_count": 14,
   "metadata": {},
   "outputs": [
    {
     "name": "stdout",
     "output_type": "stream",
     "text": [
      "United States District Court for the District of Arkansas not found\n"
     ]
    }
   ],
   "source": [
    "for court in courtDates.keys():\n",
    "    if court in cd.keys():\n",
    "        if cd[court][\"start_date\"] == \"\" or \"None\" or None:\n",
    "            cd[court][\"start_date\"] = courtDates[court][\"start_date\"]\n",
    "        if cd[court][\"end_date\"] == \"\" or \"None\" or None:\n",
    "            cd[court][\"end_date\"] = courtDates[court][\"end_date\"]\n",
    "    else:\n",
    "        print(str(court + \" not found\"))"
   ]
  },
  {
   "cell_type": "code",
   "execution_count": 15,
   "metadata": {},
   "outputs": [],
   "source": [
    "# Adding info on defunct courts not covered by the Wikipedia table scraped above\n",
    "\n",
    "\n",
    "defunctAppeals = {\n",
    "                 # \"United States District Court for the District of California\": \"Supreme Court of the United States\",\n",
    "                 \"Emergency Court of Appeals\": \"Supreme Court of the United States\",\n",
    "                 'Court of Customs and Patent Appeals': \"Supreme Court of the United States\",\n",
    "                 'Temporary Emergency Court of Appeals': \"Supreme Court of the United States\",\n",
    "                 'United States Customs Court': 'United States Court of Appeals for the Federal Circuit',\n",
    "                 'Commerce Court': \"Supreme Court of the United States\",\n",
    "                 \"United States Court of Claims\": \"Supreme Court of the United States\",\n",
    "                 \"Special Court under the Regional Rail Reorganization Act\": \"Supreme Court of the United States\",\n",
    "                 \"United States District Court for the District of Orleans\": \"Supreme Court of the United States\"\n",
    "                }\n",
    "                 \n",
    "                 # 'United States District Court for the District of Mississippi': \"Supreme Court of the United States\",\n",
    "                 # the District of Missouri was assigned to the Eighth Circuit on March 3, 1837.\n",
    "                 # \"United States District Court for the District of Missouri\": \"United States Court of Appeals for the Eighth Circuit\",\n",
    "                 # \"United States District Court for the District of New York\": \"United States Court of Appeals for the Second Circuit\"}\n",
    "\n",
    "# Non-defunct courts not listed in the Wikipedia table for whatever reason.\n",
    "\n",
    "otherAppeals = {\"Navy-Marine Corps Court of Criminal Appeals\": \"Court of Appeals for the Armed Forces\",\n",
    "                \"Army Court of Criminal Appeals\": \"Court of Appeals for the Armed Forces\",\n",
    "                \"United States Air Force Court of Criminal Appeals\": \"Court of Appeals for the Armed Forces\",\n",
    "                \"United States Court of Military Commission Review\": 'United States District Court for the District of Columbia',\n",
    "                \"Board of Veterans' Appeals\": \"United States Court of Appeals for Veterans Claims\",\n",
    "                \"Foreign Intelligence Surveillance Court\": \"Foreign Intelligence Surveillance Court of Review\",\n",
    "                \"Foreign Intelligence Surveillance Court of Review\": \"United States Supreme Court\",\n",
    "                # The Tax Court's appeals don't go to the Supreme Court, but to any geographic circuit.\n",
    "                # I don't know whether it has to follow the law of the litigant's circuit, but probably so.\n",
    "                \"United States Tax Court\": \"United States Supreme Court\",\n",
    "                \"Court of Appeals for the Armed Forces\": \"United States Supreme Court\"}\n",
    "\n",
    "for item in defunctAppeals:\n",
    "    cd[item]['reviewed_by'] = defunctAppeals[item]\n",
    "\n",
    "for item in otherAppeals:\n",
    "    cd[item]['reviewed_by'] = otherAppeals[item]"
   ]
  },
  {
   "cell_type": "code",
   "execution_count": 16,
   "metadata": {},
   "outputs": [
    {
     "data": {
      "text/plain": [
       "{'Armed Services Board of Contract Appeals': 'United States Court of Appeals for the Federal Circuit',\n",
       " 'Bureau of Justice Assistance': 'United States Court of Appeals for the Federal Circuit',\n",
       " 'Civilian Board of Contract Appeals': 'United States Court of Appeals for the Federal Circuit',\n",
       " 'District Court for the Northern Mariana Islands': 'United States Court of Appeals for the Ninth Circuit',\n",
       " 'District Court of Guam': 'United States Court of Appeals for the Ninth Circuit',\n",
       " 'District Court of the Virgin Islands': 'United States Court of Appeals for the Third Circuit',\n",
       " 'Government Accountability Office': 'United States Court of Appeals for the Federal Circuit',\n",
       " 'Patent Trial and Appeal Board': 'United States Court of Appeals for the Federal Circuit',\n",
       " 'Trademark Trial and Appeal Board': 'United States Court of Appeals for the Federal Circuit',\n",
       " 'United States Congress Office of Compliance': 'United States Court of Appeals for the Federal Circuit',\n",
       " 'United States Court of Appeals for Veterans Claims': 'United States Court of Appeals for the Federal Circuit',\n",
       " 'United States Court of Appeals for the District of Columbia Circuit': 'Supreme Court of the United States',\n",
       " 'United States Court of Appeals for the Eighth Circuit': 'Supreme Court of the United States',\n",
       " 'United States Court of Appeals for the Eleventh Circuit': 'Supreme Court of the United States',\n",
       " 'United States Court of Appeals for the Federal Circuit': 'Supreme Court of the United States',\n",
       " 'United States Court of Appeals for the Fifth Circuit': 'Supreme Court of the United States',\n",
       " 'United States Court of Appeals for the First Circuit': 'Supreme Court of the United States',\n",
       " 'United States Court of Appeals for the Fourth Circuit': 'Supreme Court of the United States',\n",
       " 'United States Court of Appeals for the Ninth Circuit': 'Supreme Court of the United States',\n",
       " 'United States Court of Appeals for the Second Circuit': 'Supreme Court of the United States',\n",
       " 'United States Court of Appeals for the Seventh Circuit': 'Supreme Court of the United States',\n",
       " 'United States Court of Appeals for the Sixth Circuit': 'Supreme Court of the United States',\n",
       " 'United States Court of Appeals for the Tenth Circuit': 'Supreme Court of the United States',\n",
       " 'United States Court of Appeals for the Third Circuit': 'Supreme Court of the United States',\n",
       " 'United States Court of Federal Claims': 'United States Court of Appeals for the Federal Circuit',\n",
       " 'United States Court of International Trade': 'United States Court of Appeals for the Federal Circuit',\n",
       " 'United States District Court for the Central District of California': 'United States Court of Appeals for the Ninth Circuit',\n",
       " 'United States District Court for the Central District of Illinois': 'United States Court of Appeals for the Seventh Circuit',\n",
       " 'United States District Court for the District of Alaska': 'United States Court of Appeals for the Ninth Circuit',\n",
       " 'United States District Court for the District of Arizona': 'United States Court of Appeals for the Ninth Circuit',\n",
       " 'United States District Court for the District of Colorado': 'United States Court of Appeals for the Tenth Circuit',\n",
       " 'United States District Court for the District of Columbia': 'United States Court of Appeals for the District of Columbia Circuit',\n",
       " 'United States District Court for the District of Connecticut': 'United States Court of Appeals for the Second Circuit',\n",
       " 'United States District Court for the District of Delaware': 'United States Court of Appeals for the Third Circuit',\n",
       " 'United States District Court for the District of Hawaii': 'United States Court of Appeals for the Ninth Circuit',\n",
       " 'United States District Court for the District of Idaho': 'United States Court of Appeals for the Ninth Circuit',\n",
       " 'United States District Court for the District of Kansas': 'United States Court of Appeals for the Tenth Circuit',\n",
       " 'United States District Court for the District of Maine': 'United States Court of Appeals for the First Circuit',\n",
       " 'United States District Court for the District of Maryland': 'United States Court of Appeals for the Fourth Circuit',\n",
       " 'United States District Court for the District of Massachusetts': 'United States Court of Appeals for the First Circuit',\n",
       " 'United States District Court for the District of Minnesota': 'United States Court of Appeals for the Eighth Circuit',\n",
       " 'United States District Court for the District of Montana': 'United States Court of Appeals for the Ninth Circuit',\n",
       " 'United States District Court for the District of Nebraska': 'United States Court of Appeals for the Eighth Circuit',\n",
       " 'United States District Court for the District of Nevada': 'United States Court of Appeals for the Ninth Circuit',\n",
       " 'United States District Court for the District of New Hampshire': 'United States Court of Appeals for the First Circuit',\n",
       " 'United States District Court for the District of New Jersey': 'United States Court of Appeals for the Third Circuit',\n",
       " 'United States District Court for the District of New Mexico': 'United States Court of Appeals for the Tenth Circuit',\n",
       " 'United States District Court for the District of North Dakota': 'United States Court of Appeals for the Eighth Circuit',\n",
       " 'United States District Court for the District of Oregon': 'United States Court of Appeals for the Ninth Circuit',\n",
       " 'United States District Court for the District of Puerto Rico': 'United States Court of Appeals for the First Circuit',\n",
       " 'United States District Court for the District of Rhode Island': 'United States Court of Appeals for the First Circuit',\n",
       " 'United States District Court for the District of South Carolina': 'United States Court of Appeals for the Fourth Circuit',\n",
       " 'United States District Court for the District of South Dakota': 'United States Court of Appeals for the Eighth Circuit',\n",
       " 'United States District Court for the District of Utah': 'United States Court of Appeals for the Tenth Circuit',\n",
       " 'United States District Court for the District of Vermont': 'United States Court of Appeals for the Second Circuit',\n",
       " 'United States District Court for the District of Wyoming': 'United States Court of Appeals for the Tenth Circuit',\n",
       " 'United States District Court for the Eastern District of Arkansas': 'United States Court of Appeals for the Eighth Circuit',\n",
       " 'United States District Court for the Eastern District of California': 'United States Court of Appeals for the Ninth Circuit',\n",
       " 'United States District Court for the Eastern District of Kentucky': 'United States Court of Appeals for the Sixth Circuit',\n",
       " 'United States District Court for the Eastern District of Louisiana': 'United States Court of Appeals for the Fifth Circuit',\n",
       " 'United States District Court for the Eastern District of Michigan': 'United States Court of Appeals for the Sixth Circuit',\n",
       " 'United States District Court for the Eastern District of Missouri': 'United States Court of Appeals for the Eighth Circuit',\n",
       " 'United States District Court for the Eastern District of New York': 'United States Court of Appeals for the Second Circuit',\n",
       " 'United States District Court for the Eastern District of North Carolina': 'United States Court of Appeals for the Fourth Circuit',\n",
       " 'United States District Court for the Eastern District of Oklahoma': 'United States Court of Appeals for the Tenth Circuit',\n",
       " 'United States District Court for the Eastern District of Pennsylvania': 'United States Court of Appeals for the Third Circuit',\n",
       " 'United States District Court for the Eastern District of Tennessee': 'United States Court of Appeals for the Sixth Circuit',\n",
       " 'United States District Court for the Eastern District of Texas': 'United States Court of Appeals for the Fifth Circuit',\n",
       " 'United States District Court for the Eastern District of Virginia': 'United States Court of Appeals for the Fourth Circuit',\n",
       " 'United States District Court for the Eastern District of Washington': 'United States Court of Appeals for the Ninth Circuit',\n",
       " 'United States District Court for the Eastern District of Wisconsin': 'United States Court of Appeals for the Seventh Circuit',\n",
       " 'United States District Court for the Middle District of Alabama': 'United States Court of Appeals for the Eleventh Circuit',\n",
       " 'United States District Court for the Middle District of Florida': 'United States Court of Appeals for the Eleventh Circuit',\n",
       " 'United States District Court for the Middle District of Georgia': 'United States Court of Appeals for the Eleventh Circuit',\n",
       " 'United States District Court for the Middle District of Louisiana': 'United States Court of Appeals for the Fifth Circuit',\n",
       " 'United States District Court for the Middle District of North Carolina': 'United States Court of Appeals for the Fourth Circuit',\n",
       " 'United States District Court for the Middle District of Pennsylvania': 'United States Court of Appeals for the Third Circuit',\n",
       " 'United States District Court for the Middle District of Tennessee': 'United States Court of Appeals for the Sixth Circuit',\n",
       " 'United States District Court for the Northern District of Alabama': 'United States Court of Appeals for the Eleventh Circuit',\n",
       " 'United States District Court for the Northern District of California': 'United States Court of Appeals for the Ninth Circuit',\n",
       " 'United States District Court for the Northern District of Florida': 'United States Court of Appeals for the Eleventh Circuit',\n",
       " 'United States District Court for the Northern District of Georgia': 'United States Court of Appeals for the Eleventh Circuit',\n",
       " 'United States District Court for the Northern District of Illinois': 'United States Court of Appeals for the Seventh Circuit',\n",
       " 'United States District Court for the Northern District of Indiana': 'United States Court of Appeals for the Seventh Circuit',\n",
       " 'United States District Court for the Northern District of Iowa': 'United States Court of Appeals for the Eighth Circuit',\n",
       " 'United States District Court for the Northern District of Mississippi': 'United States Court of Appeals for the Fifth Circuit',\n",
       " 'United States District Court for the Northern District of New York': 'United States Court of Appeals for the Second Circuit',\n",
       " 'United States District Court for the Northern District of Ohio': 'United States Court of Appeals for the Sixth Circuit',\n",
       " 'United States District Court for the Northern District of Oklahoma': 'United States Court of Appeals for the Tenth Circuit',\n",
       " 'United States District Court for the Northern District of Texas': 'United States Court of Appeals for the Fifth Circuit',\n",
       " 'United States District Court for the Northern District of West Virginia': 'United States Court of Appeals for the Fourth Circuit',\n",
       " 'United States District Court for the Southern District of Alabama': 'United States Court of Appeals for the Eleventh Circuit',\n",
       " 'United States District Court for the Southern District of California': 'United States Court of Appeals for the Ninth Circuit',\n",
       " 'United States District Court for the Southern District of Florida': 'United States Court of Appeals for the Eleventh Circuit',\n",
       " 'United States District Court for the Southern District of Georgia': 'United States Court of Appeals for the Eleventh Circuit',\n",
       " 'United States District Court for the Southern District of Illinois': 'United States Court of Appeals for the Seventh Circuit',\n",
       " 'United States District Court for the Southern District of Indiana': 'United States Court of Appeals for the Seventh Circuit',\n",
       " 'United States District Court for the Southern District of Iowa': 'United States Court of Appeals for the Eighth Circuit',\n",
       " 'United States District Court for the Southern District of Mississippi': 'United States Court of Appeals for the Fifth Circuit',\n",
       " 'United States District Court for the Southern District of New York': 'United States Court of Appeals for the Second Circuit',\n",
       " 'United States District Court for the Southern District of Ohio': 'United States Court of Appeals for the Sixth Circuit',\n",
       " 'United States District Court for the Southern District of Texas': 'United States Court of Appeals for the Fifth Circuit',\n",
       " 'United States District Court for the Southern District of West Virginia': 'United States Court of Appeals for the Fourth Circuit',\n",
       " 'United States District Court for the Western District of Arkansas': 'United States Court of Appeals for the Eighth Circuit',\n",
       " 'United States District Court for the Western District of Kentucky': 'United States Court of Appeals for the Sixth Circuit',\n",
       " 'United States District Court for the Western District of Louisiana': 'United States Court of Appeals for the Fifth Circuit',\n",
       " 'United States District Court for the Western District of Michigan': 'United States Court of Appeals for the Sixth Circuit',\n",
       " 'United States District Court for the Western District of Missouri': 'United States Court of Appeals for the Eighth Circuit',\n",
       " 'United States District Court for the Western District of New York': 'United States Court of Appeals for the Second Circuit',\n",
       " 'United States District Court for the Western District of North Carolina': 'United States Court of Appeals for the Fourth Circuit',\n",
       " 'United States District Court for the Western District of Oklahoma': 'United States Court of Appeals for the Tenth Circuit',\n",
       " 'United States District Court for the Western District of Pennsylvania': 'United States Court of Appeals for the Third Circuit',\n",
       " 'United States District Court for the Western District of Tennessee': 'United States Court of Appeals for the Sixth Circuit',\n",
       " 'United States District Court for the Western District of Texas': 'United States Court of Appeals for the Fifth Circuit',\n",
       " 'United States District Court for the Western District of Virginia': 'United States Court of Appeals for the Fourth Circuit',\n",
       " 'United States District Court for the Western District of Washington': 'United States Court of Appeals for the Ninth Circuit',\n",
       " 'United States District Court for the Western District of Wisconsin': 'United States Court of Appeals for the Seventh Circuit',\n",
       " 'United States International Trade Commission': 'United States Court of Appeals for the Federal Circuit',\n",
       " 'United States Merit Systems Protection Board': 'United States Court of Appeals for the Federal Circuit'}"
      ]
     },
     "execution_count": 16,
     "metadata": {},
     "output_type": "execute_result"
    }
   ],
   "source": [
    "appealsTo"
   ]
  },
  {
   "cell_type": "code",
   "execution_count": 17,
   "metadata": {},
   "outputs": [
    {
     "data": {
      "text/plain": [
       "{'citation_string': 'Tax Ct.',\n",
       " 'date_modified': '2013-08-14T22:20:02Z',\n",
       " 'end_date': None,\n",
       " 'full_name': 'United States Tax Court',\n",
       " 'has_opinion_scraper': True,\n",
       " 'has_oral_argument_scraper': False,\n",
       " 'in_use': True,\n",
       " 'jurisdiction': 'FS',\n",
       " 'position': 114.2,\n",
       " 'resource_uri': 'http://www.courtlistener.com/api/rest/v3/courts/tax/',\n",
       " 'reviewed_by': 'United States Supreme Court',\n",
       " 'short_name': 'U.S. Tax Court',\n",
       " 'start_date': None,\n",
       " 'url': 'http://www.ustaxcourt.gov/'}"
      ]
     },
     "execution_count": 17,
     "metadata": {},
     "output_type": "execute_result"
    }
   ],
   "source": [
    "cd[\"United States Tax Court\"]"
   ]
  },
  {
   "cell_type": "code",
   "execution_count": 18,
   "metadata": {},
   "outputs": [],
   "source": [
    "def getLastAppellate(closure, history):\n",
    "    closure = parse(closure)\n",
    "    if closure < min(history):\n",
    "        return 'Supreme Court of the United States'\n",
    "    else:\n",
    "        return \"United States Court of Appeals for the {0} Circuit\".format(max(year for year in history if year < closure))\n",
    "\n",
    "# getLastAppellate(datetime(1862, 1, 1, 0, 0), circuitHistory[\"Louisiana\"])"
   ]
  },
  {
   "cell_type": "code",
   "execution_count": 19,
   "metadata": {
    "scrolled": true
   },
   "outputs": [],
   "source": [
    "# This is failing because I don't have a way to handle the defunct courts\n",
    "# A comprehensive solution would capture the date range that every court appealed to every other one...\n",
    "# TODO: add WikiData URIs for each court\n",
    "    \n",
    "for court in cd:\n",
    "    if 'reviewed_by' not in cd[court].keys():\n",
    "        if court in ('Supreme Court of the United States', 'United States Attorneys General'):\n",
    "            cd[court]['reviewed_by'] = None\n",
    "        elif court.startswith(\"U.\"): # Only intended to catch circuit courts from before they were numbered\n",
    "            cd[court]['reviewed_by'] = 'Supreme Court of the United States'\n",
    "        elif court in appealsTo:\n",
    "            cd[court]['reviewed_by'] = appealsTo[court]\n",
    "        else:\n",
    "            for length in range(1, 4): # Will overwrite Virginia if West Virginia is also in the list.\n",
    "                stateName = \" \".join(court.rsplit(\" \", length)[-1 * length:])\n",
    "                if stateName in circuitHistory:\n",
    "                    if cd[court]['end_date'] == None:\n",
    "                        print(court)\n",
    "                    cd[court]['reviewed_by'] = getLastAppellate(cd[court]['end_date'], circuitHistory[stateName])\n",
    "                    # print(cd[court])"
   ]
  },
  {
   "cell_type": "code",
   "execution_count": null,
   "metadata": {},
   "outputs": [],
   "source": []
  },
  {
   "cell_type": "code",
   "execution_count": 20,
   "metadata": {},
   "outputs": [
    {
     "data": {
      "text/plain": [
       "\"import pandas as pd\\n\\ndf = pd.DataFrame(courts)\\ndf = df.set_index('position').sort_index()\""
      ]
     },
     "execution_count": 20,
     "metadata": {},
     "output_type": "execute_result"
    }
   ],
   "source": [
    "\"\"\"import pandas as pd\n",
    "\n",
    "df = pd.DataFrame(courts)\n",
    "df = df.set_index('position').sort_index()\"\"\""
   ]
  }
 ],
 "metadata": {
  "kernelspec": {
   "display_name": "Python 3",
   "language": "python",
   "name": "python3"
  },
  "language_info": {
   "codemirror_mode": {
    "name": "ipython",
    "version": 3
   },
   "file_extension": ".py",
   "mimetype": "text/x-python",
   "name": "python",
   "nbconvert_exporter": "python",
   "pygments_lexer": "ipython3",
   "version": "3.6.1"
  }
 },
 "nbformat": 4,
 "nbformat_minor": 2
}
