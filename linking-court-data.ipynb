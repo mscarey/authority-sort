{
 "cells": [
  {
   "cell_type": "markdown",
   "metadata": {},
   "source": [
    "This notebook is used to join some data about federal courts from Wikipedia tables to some other data from [Courtlistener](https://www.courtlistener.com/).\n",
    "\n",
    "To use this notebook, I downloaded \"All court data\" from https://www.courtlistener.com/api/bulk-data/courts/all.tar.gz and put it in the a subdirectory called courts-all."
   ]
  },
  {
   "cell_type": "code",
   "execution_count": 1,
   "metadata": {
    "collapsed": true
   },
   "outputs": [],
   "source": [
    "import requests\n",
    "from bs4 import BeautifulSoup"
   ]
  },
  {
   "cell_type": "code",
   "execution_count": 2,
   "metadata": {
    "collapsed": true
   },
   "outputs": [],
   "source": [
    "# This scraping function could easily break if the format of the Wikipedia page changes.\n",
    "# The versions of these pages as of 2018-01-06 should work.\n",
    "\n",
    "def loadWikiPage(pagename):\n",
    "    urls = {\"USFedCircuitComposition\" : \"https://en.m.wikipedia.org/w/index.php?title=Template:USFedCircuitComposition&mobileaction=toggle_view_mobile\",\n",
    "            \"List_of_former_United_States_district_courts\": \"https://en.m.wikipedia.org/wiki/List_of_former_United_States_district_courts\"}\n",
    "    \n",
    "    pagepath = './html/' + pagename + '.html'\n",
    "    \n",
    "    try:\n",
    "        # getting list of federal court circuits and districts from file\n",
    "        f = open(pagepath)\n",
    "        page = f.read()\n",
    "        assert len(page) > 100\n",
    "        soup = BeautifulSoup(page, 'html.parser')\n",
    "\n",
    "    except:\n",
    "        print(\"List of federal court circuits and districts not found, retrieving from Wikipedia instead\")\n",
    "        r = requests.get(urls[pagename])\n",
    "        # saving the list to a file\n",
    "        f = open(pagepath, \"w\")\n",
    "        f.write(r.text)\n",
    "        soup = BeautifulSoup(r.text, 'html.parser')\n",
    "    return soup"
   ]
  },
  {
   "cell_type": "code",
   "execution_count": 3,
   "metadata": {
    "collapsed": true
   },
   "outputs": [],
   "source": [
    "# Getting a list of heirarchical relationships between courts, from Wikipedia.\n",
    "\n",
    "soup = loadWikiPage(\"USFedCircuitComposition\")\n",
    "\n",
    "fedTable = soup.table\n"
   ]
  },
  {
   "cell_type": "code",
   "execution_count": 4,
   "metadata": {
    "collapsed": true,
    "scrolled": true
   },
   "outputs": [],
   "source": [
    "# Creating the appealsTo dict of heirarchical relationships between courts, from the Wikipedia data.\n",
    "\n",
    "# import pprint\n",
    "\n",
    "appealsTo = {}\n",
    "\n",
    "for line in fedTable.find_all(['p', 'li']):\n",
    "    if line.a.get('title') != None:\n",
    "        title = line.a.get('title').strip()\n",
    "        if title.startswith('United States Court of Appeals') and title.endswith('Circuit'):\n",
    "            circuit = title\n",
    "        if title == circuit:\n",
    "            appealsTo[title] = \"Supreme Court of the United States\"\n",
    "        else:\n",
    "            appealsTo[title] = circuit\n",
    "            \n",
    "# pprint.pprint(appealsTo)\n",
    "                "
   ]
  },
  {
   "cell_type": "code",
   "execution_count": 5,
   "metadata": {
    "collapsed": true
   },
   "outputs": [],
   "source": [
    "import time\n",
    "\n",
    "ordinals = (\"first\",\"second\",\"third\",\"fourth\",\"fifth\",\"sixth\",\"seventh\",\"eighth\",\"ninth\",\"tenth\",\"eleventh\")\n",
    "\n",
    "def loadFJCPage(ordinal):\n",
    "\n",
    "    pagename = 'federal-judicial-circuits-{0}-circuit'.format(ordinal)\n",
    "    pagepath = './html/' + pagename\n",
    "    \n",
    "    try:\n",
    "        # getting list of federal court circuits and states from file\n",
    "        f = open(pagepath)\n",
    "        page = f.read()\n",
    "        assert len(page) > 100\n",
    "        soup = BeautifulSoup(page, 'html.parser')\n",
    "\n",
    "    except:\n",
    "        print(\"List of federal court circuits and districts not found, retrieving from fjc.gov instead\")\n",
    "        url = \"https://www.fjc.gov/history/administration/\" + pagename\n",
    "        r = requests.get(url, timeout=5)\n",
    "        # saving the list to a file\n",
    "        f = open(pagepath, \"w\")\n",
    "        f.write(r.text)\n",
    "        soup = BeautifulSoup(r.text, 'html.parser')\n",
    "        time.sleep(1)\n",
    "    return soup\n"
   ]
  },
  {
   "cell_type": "code",
   "execution_count": 6,
   "metadata": {},
   "outputs": [
    {
     "data": {
      "text/plain": [
       "['1801', 'Maine, Massachusetts, New Hampshire, Rhode Island. (2 Stat. 89)']"
      ]
     },
     "execution_count": 6,
     "metadata": {},
     "output_type": "execute_result"
    }
   ],
   "source": [
    "'1801: Maine, Massachusetts, New Hampshire, Rhode Island. (2 Stat. 89)'.split(\": \")"
   ]
  },
  {
   "cell_type": "code",
   "execution_count": 7,
   "metadata": {},
   "outputs": [
    {
     "name": "stdout",
     "output_type": "stream",
     "text": [
      "{'Maine': {datetime.datetime(1801, 1, 1, 0, 0): 'First', datetime.datetime(1820, 1, 1, 0, 0): 'First', datetime.datetime(1915, 1, 1, 0, 0): 'First'}, 'Massachusetts': {datetime.datetime(1801, 1, 1, 0, 0): 'First', datetime.datetime(1802, 1, 1, 0, 0): 'First', datetime.datetime(1820, 1, 1, 0, 0): 'First', datetime.datetime(1915, 1, 1, 0, 0): 'First'}, 'New Hampshire': {datetime.datetime(1801, 1, 1, 0, 0): 'First', datetime.datetime(1802, 1, 1, 0, 0): 'First', datetime.datetime(1820, 1, 1, 0, 0): 'First', datetime.datetime(1915, 1, 1, 0, 0): 'First'}, 'Rhode Island': {datetime.datetime(1801, 1, 1, 0, 0): 'First', datetime.datetime(1802, 1, 1, 0, 0): 'First', datetime.datetime(1820, 1, 1, 0, 0): 'First', datetime.datetime(1915, 1, 1, 0, 0): 'First'}, 'Puerto Rico': {datetime.datetime(1915, 1, 1, 0, 0): 'First'}, 'Connecticut': {datetime.datetime(1801, 1, 1, 0, 0): 'Second'}, 'New York': {datetime.datetime(1801, 1, 1, 0, 0): 'Second'}, 'Vermont': {datetime.datetime(1801, 1, 1, 0, 0): 'Second'}, 'Delaware': {datetime.datetime(1801, 1, 1, 0, 0): 'Third', datetime.datetime(1866, 1, 1, 0, 0): 'Third', datetime.datetime(1948, 1, 1, 0, 0): 'Third', datetime.datetime(1802, 1, 1, 0, 0): 'Fourth', datetime.datetime(1842, 1, 1, 0, 0): 'Fourth', datetime.datetime(1862, 1, 1, 0, 0): 'Fourth', datetime.datetime(1864, 1, 1, 0, 0): 'Fourth'}, 'New Jersey': {datetime.datetime(1801, 1, 1, 0, 0): 'Third', datetime.datetime(1802, 1, 1, 0, 0): 'Third', datetime.datetime(1866, 1, 1, 0, 0): 'Third', datetime.datetime(1948, 1, 1, 0, 0): 'Third'}, 'Pennsylvania': {datetime.datetime(1801, 1, 1, 0, 0): 'Third', datetime.datetime(1802, 1, 1, 0, 0): 'Third', datetime.datetime(1866, 1, 1, 0, 0): 'Third', datetime.datetime(1948, 1, 1, 0, 0): 'Third'}, 'Virgin Islands': {datetime.datetime(1948, 1, 1, 0, 0): 'Third'}, 'Maryland': {datetime.datetime(1801, 1, 1, 0, 0): 'Fourth', datetime.datetime(1802, 1, 1, 0, 0): 'Fourth', datetime.datetime(1842, 1, 1, 0, 0): 'Fourth', datetime.datetime(1862, 1, 1, 0, 0): 'Fourth', datetime.datetime(1864, 1, 1, 0, 0): 'Fourth', datetime.datetime(1866, 1, 1, 0, 0): 'Fourth'}, 'Virginia': {datetime.datetime(1801, 1, 1, 0, 0): 'Fourth', datetime.datetime(1842, 1, 1, 0, 0): 'Fourth', datetime.datetime(1862, 1, 1, 0, 0): 'Fourth', datetime.datetime(1864, 1, 1, 0, 0): 'Fourth', datetime.datetime(1866, 1, 1, 0, 0): 'Fourth', datetime.datetime(1802, 1, 1, 0, 0): 'Fifth'}, 'North Carolina': {datetime.datetime(1862, 1, 1, 0, 0): 'Fourth', datetime.datetime(1864, 1, 1, 0, 0): 'Fourth', datetime.datetime(1866, 1, 1, 0, 0): 'Fourth', datetime.datetime(1801, 1, 1, 0, 0): 'Fifth', datetime.datetime(1802, 1, 1, 0, 0): 'Fifth', datetime.datetime(1842, 1, 1, 0, 0): 'Sixth'}, 'West Virginia': {datetime.datetime(1864, 1, 1, 0, 0): 'Fourth', datetime.datetime(1866, 1, 1, 0, 0): 'Fourth'}, 'South Carolina': {datetime.datetime(1866, 1, 1, 0, 0): 'Fourth', datetime.datetime(1801, 1, 1, 0, 0): 'Fifth', datetime.datetime(1862, 1, 1, 0, 0): 'Fifth', datetime.datetime(1802, 1, 1, 0, 0): 'Sixth', datetime.datetime(1842, 1, 1, 0, 0): 'Sixth'}, 'Georgia': {datetime.datetime(1801, 1, 1, 0, 0): 'Fifth', datetime.datetime(1862, 1, 1, 0, 0): 'Fifth', datetime.datetime(1866, 1, 1, 0, 0): 'Fifth', datetime.datetime(1948, 1, 1, 0, 0): 'Fifth', datetime.datetime(1802, 1, 1, 0, 0): 'Sixth', datetime.datetime(1842, 1, 1, 0, 0): 'Sixth', datetime.datetime(1980, 1, 1, 0, 0): 'Eleventh'}, 'Alabama': {datetime.datetime(1842, 1, 1, 0, 0): 'Fifth', datetime.datetime(1862, 1, 1, 0, 0): 'Fifth', datetime.datetime(1866, 1, 1, 0, 0): 'Fifth', datetime.datetime(1948, 1, 1, 0, 0): 'Fifth', datetime.datetime(1837, 1, 1, 0, 0): 'Ninth', datetime.datetime(1980, 1, 1, 0, 0): 'Eleventh'}, 'Louisiana': {datetime.datetime(1842, 1, 1, 0, 0): 'Fifth', datetime.datetime(1866, 1, 1, 0, 0): 'Fifth', datetime.datetime(1948, 1, 1, 0, 0): 'Fifth', datetime.datetime(1980, 1, 1, 0, 0): 'Fifth', datetime.datetime(1982, 1, 1, 0, 0): 'Fifth', datetime.datetime(1862, 1, 1, 0, 0): 'Sixth', datetime.datetime(1837, 1, 1, 0, 0): 'Ninth'}, 'Florida': {datetime.datetime(1862, 1, 1, 0, 0): 'Fifth', datetime.datetime(1866, 1, 1, 0, 0): 'Fifth', datetime.datetime(1948, 1, 1, 0, 0): 'Fifth', datetime.datetime(1980, 1, 1, 0, 0): 'Eleventh'}, 'Mississippi': {datetime.datetime(1862, 1, 1, 0, 0): 'Fifth', datetime.datetime(1866, 1, 1, 0, 0): 'Fifth', datetime.datetime(1948, 1, 1, 0, 0): 'Fifth', datetime.datetime(1980, 1, 1, 0, 0): 'Fifth', datetime.datetime(1982, 1, 1, 0, 0): 'Fifth', datetime.datetime(1837, 1, 1, 0, 0): 'Ninth', datetime.datetime(1842, 1, 1, 0, 0): 'Ninth'}, 'Texas': {datetime.datetime(1866, 1, 1, 0, 0): 'Fifth', datetime.datetime(1948, 1, 1, 0, 0): 'Fifth', datetime.datetime(1980, 1, 1, 0, 0): 'Fifth', datetime.datetime(1982, 1, 1, 0, 0): 'Fifth', datetime.datetime(1862, 1, 1, 0, 0): 'Sixth'}, 'Canal Zone': {datetime.datetime(1948, 1, 1, 0, 0): 'Fifth', datetime.datetime(1980, 1, 1, 0, 0): 'Fifth'}, 'Kentucky': {datetime.datetime(1801, 1, 1, 0, 0): 'Sixth', datetime.datetime(1862, 1, 1, 0, 0): 'Sixth', datetime.datetime(1866, 1, 1, 0, 0): 'Sixth', datetime.datetime(1807, 1, 1, 0, 0): 'Seventh', datetime.datetime(1837, 1, 1, 0, 0): 'Eighth'}, 'Ohio (encompassing Territory Northwest of Ohio and Indiana Territory)': {datetime.datetime(1801, 1, 1, 0, 0): 'Sixth'}, 'Tennessee': {datetime.datetime(1801, 1, 1, 0, 0): 'Sixth', datetime.datetime(1862, 1, 1, 0, 0): 'Sixth', datetime.datetime(1866, 1, 1, 0, 0): 'Sixth', datetime.datetime(1807, 1, 1, 0, 0): 'Seventh', datetime.datetime(1837, 1, 1, 0, 0): 'Eighth'}, 'Arkansas': {datetime.datetime(1862, 1, 1, 0, 0): 'Sixth', datetime.datetime(1866, 1, 1, 0, 0): 'Eighth', datetime.datetime(1867, 1, 1, 0, 0): 'Eighth', datetime.datetime(1876, 1, 1, 0, 0): 'Eighth', datetime.datetime(1889, 1, 1, 0, 0): 'Eighth', datetime.datetime(1890, 1, 1, 0, 0): 'Eighth', datetime.datetime(1896, 1, 1, 0, 0): 'Eighth', datetime.datetime(1907, 1, 1, 0, 0): 'Eighth', datetime.datetime(1912, 1, 1, 0, 0): 'Eighth', datetime.datetime(1929, 1, 1, 0, 0): 'Eighth', datetime.datetime(1837, 1, 1, 0, 0): 'Ninth', datetime.datetime(1842, 1, 1, 0, 0): 'Ninth'}, 'Michigan': {datetime.datetime(1866, 1, 1, 0, 0): 'Sixth', datetime.datetime(1837, 1, 1, 0, 0): 'Seventh', datetime.datetime(1863, 1, 1, 0, 0): 'Seventh', datetime.datetime(1862, 1, 1, 0, 0): 'Eighth'}, 'Ohio': {datetime.datetime(1866, 1, 1, 0, 0): 'Sixth', datetime.datetime(1807, 1, 1, 0, 0): 'Seventh', datetime.datetime(1837, 1, 1, 0, 0): 'Seventh', datetime.datetime(1862, 1, 1, 0, 0): 'Seventh', datetime.datetime(1863, 1, 1, 0, 0): 'Seventh'}, 'Illinois': {datetime.datetime(1837, 1, 1, 0, 0): 'Seventh', datetime.datetime(1866, 1, 1, 0, 0): 'Seventh', datetime.datetime(1862, 1, 1, 0, 0): 'Eighth', datetime.datetime(1863, 1, 1, 0, 0): 'Eighth'}, 'Indiana': {datetime.datetime(1837, 1, 1, 0, 0): 'Seventh', datetime.datetime(1862, 1, 1, 0, 0): 'Seventh', datetime.datetime(1866, 1, 1, 0, 0): 'Seventh', datetime.datetime(1863, 1, 1, 0, 0): 'Eighth'}, 'Wisconsin': {datetime.datetime(1866, 1, 1, 0, 0): 'Seventh', datetime.datetime(1862, 1, 1, 0, 0): 'Eighth', datetime.datetime(1863, 1, 1, 0, 0): 'Eighth'}, 'Missouri': {datetime.datetime(1837, 1, 1, 0, 0): 'Eighth', datetime.datetime(1866, 1, 1, 0, 0): 'Eighth', datetime.datetime(1867, 1, 1, 0, 0): 'Eighth', datetime.datetime(1876, 1, 1, 0, 0): 'Eighth', datetime.datetime(1889, 1, 1, 0, 0): 'Eighth', datetime.datetime(1890, 1, 1, 0, 0): 'Eighth', datetime.datetime(1896, 1, 1, 0, 0): 'Eighth', datetime.datetime(1907, 1, 1, 0, 0): 'Eighth', datetime.datetime(1912, 1, 1, 0, 0): 'Eighth', datetime.datetime(1929, 1, 1, 0, 0): 'Eighth', datetime.datetime(1862, 1, 1, 0, 0): 'Ninth'}, 'Iowa': {datetime.datetime(1866, 1, 1, 0, 0): 'Eighth', datetime.datetime(1867, 1, 1, 0, 0): 'Eighth', datetime.datetime(1876, 1, 1, 0, 0): 'Eighth', datetime.datetime(1889, 1, 1, 0, 0): 'Eighth', datetime.datetime(1890, 1, 1, 0, 0): 'Eighth', datetime.datetime(1896, 1, 1, 0, 0): 'Eighth', datetime.datetime(1907, 1, 1, 0, 0): 'Eighth', datetime.datetime(1912, 1, 1, 0, 0): 'Eighth', datetime.datetime(1929, 1, 1, 0, 0): 'Eighth', datetime.datetime(1862, 1, 1, 0, 0): 'Ninth'}, 'Kansas': {datetime.datetime(1866, 1, 1, 0, 0): 'Eighth', datetime.datetime(1867, 1, 1, 0, 0): 'Eighth', datetime.datetime(1876, 1, 1, 0, 0): 'Eighth', datetime.datetime(1889, 1, 1, 0, 0): 'Eighth', datetime.datetime(1890, 1, 1, 0, 0): 'Eighth', datetime.datetime(1896, 1, 1, 0, 0): 'Eighth', datetime.datetime(1907, 1, 1, 0, 0): 'Eighth', datetime.datetime(1912, 1, 1, 0, 0): 'Eighth', datetime.datetime(1862, 1, 1, 0, 0): 'Ninth', datetime.datetime(1929, 1, 1, 0, 0): 'Tenth'}, 'Minnesota': {datetime.datetime(1866, 1, 1, 0, 0): 'Eighth', datetime.datetime(1867, 1, 1, 0, 0): 'Eighth', datetime.datetime(1876, 1, 1, 0, 0): 'Eighth', datetime.datetime(1889, 1, 1, 0, 0): 'Eighth', datetime.datetime(1890, 1, 1, 0, 0): 'Eighth', datetime.datetime(1896, 1, 1, 0, 0): 'Eighth', datetime.datetime(1907, 1, 1, 0, 0): 'Eighth', datetime.datetime(1912, 1, 1, 0, 0): 'Eighth', datetime.datetime(1929, 1, 1, 0, 0): 'Eighth', datetime.datetime(1862, 1, 1, 0, 0): 'Ninth'}, 'Nebraska': {datetime.datetime(1867, 1, 1, 0, 0): 'Eighth', datetime.datetime(1876, 1, 1, 0, 0): 'Eighth', datetime.datetime(1889, 1, 1, 0, 0): 'Eighth', datetime.datetime(1890, 1, 1, 0, 0): 'Eighth', datetime.datetime(1896, 1, 1, 0, 0): 'Eighth', datetime.datetime(1907, 1, 1, 0, 0): 'Eighth', datetime.datetime(1912, 1, 1, 0, 0): 'Eighth', datetime.datetime(1929, 1, 1, 0, 0): 'Eighth'}, 'Colorado': {datetime.datetime(1876, 1, 1, 0, 0): 'Eighth', datetime.datetime(1889, 1, 1, 0, 0): 'Eighth', datetime.datetime(1890, 1, 1, 0, 0): 'Eighth', datetime.datetime(1896, 1, 1, 0, 0): 'Eighth', datetime.datetime(1907, 1, 1, 0, 0): 'Eighth', datetime.datetime(1912, 1, 1, 0, 0): 'Eighth', datetime.datetime(1929, 1, 1, 0, 0): 'Tenth'}, 'North Dakota': {datetime.datetime(1889, 1, 1, 0, 0): 'Eighth', datetime.datetime(1890, 1, 1, 0, 0): 'Eighth', datetime.datetime(1896, 1, 1, 0, 0): 'Eighth', datetime.datetime(1907, 1, 1, 0, 0): 'Eighth', datetime.datetime(1912, 1, 1, 0, 0): 'Eighth', datetime.datetime(1929, 1, 1, 0, 0): 'Eighth'}, 'South Dakota': {datetime.datetime(1889, 1, 1, 0, 0): 'Eighth', datetime.datetime(1890, 1, 1, 0, 0): 'Eighth', datetime.datetime(1896, 1, 1, 0, 0): 'Eighth', datetime.datetime(1907, 1, 1, 0, 0): 'Eighth', datetime.datetime(1912, 1, 1, 0, 0): 'Eighth', datetime.datetime(1929, 1, 1, 0, 0): 'Eighth'}, 'Wyoming': {datetime.datetime(1890, 1, 1, 0, 0): 'Eighth', datetime.datetime(1896, 1, 1, 0, 0): 'Eighth', datetime.datetime(1907, 1, 1, 0, 0): 'Eighth', datetime.datetime(1912, 1, 1, 0, 0): 'Eighth', datetime.datetime(1929, 1, 1, 0, 0): 'Tenth'}, 'Utah': {datetime.datetime(1896, 1, 1, 0, 0): 'Eighth', datetime.datetime(1907, 1, 1, 0, 0): 'Eighth', datetime.datetime(1912, 1, 1, 0, 0): 'Eighth', datetime.datetime(1929, 1, 1, 0, 0): 'Tenth'}, 'Oklahoma': {datetime.datetime(1907, 1, 1, 0, 0): 'Eighth', datetime.datetime(1912, 1, 1, 0, 0): 'Eighth', datetime.datetime(1929, 1, 1, 0, 0): 'Tenth'}, 'New Mexico': {datetime.datetime(1912, 1, 1, 0, 0): 'Eighth', datetime.datetime(1929, 1, 1, 0, 0): 'Tenth'}, 'California': {datetime.datetime(1866, 1, 1, 0, 0): 'Ninth', datetime.datetime(1889, 1, 1, 0, 0): 'Ninth', datetime.datetime(1890, 1, 1, 0, 0): 'Ninth', datetime.datetime(1900, 1, 1, 0, 0): 'Ninth', datetime.datetime(1912, 1, 1, 0, 0): 'Ninth', datetime.datetime(1951, 1, 1, 0, 0): 'Ninth', datetime.datetime(1959, 1, 1, 0, 0): 'Ninth', datetime.datetime(1977, 1, 1, 0, 0): 'Ninth', datetime.datetime(1863, 1, 1, 0, 0): 'Tenth', datetime.datetime(1865, 1, 1, 0, 0): 'Tenth'}, 'Nevada': {datetime.datetime(1866, 1, 1, 0, 0): 'Ninth', datetime.datetime(1889, 1, 1, 0, 0): 'Ninth', datetime.datetime(1890, 1, 1, 0, 0): 'Ninth', datetime.datetime(1900, 1, 1, 0, 0): 'Ninth', datetime.datetime(1912, 1, 1, 0, 0): 'Ninth', datetime.datetime(1951, 1, 1, 0, 0): 'Ninth', datetime.datetime(1959, 1, 1, 0, 0): 'Ninth', datetime.datetime(1977, 1, 1, 0, 0): 'Ninth', datetime.datetime(1865, 1, 1, 0, 0): 'Tenth'}, 'Oregon': {datetime.datetime(1866, 1, 1, 0, 0): 'Ninth', datetime.datetime(1889, 1, 1, 0, 0): 'Ninth', datetime.datetime(1890, 1, 1, 0, 0): 'Ninth', datetime.datetime(1900, 1, 1, 0, 0): 'Ninth', datetime.datetime(1912, 1, 1, 0, 0): 'Ninth', datetime.datetime(1951, 1, 1, 0, 0): 'Ninth', datetime.datetime(1959, 1, 1, 0, 0): 'Ninth', datetime.datetime(1977, 1, 1, 0, 0): 'Ninth', datetime.datetime(1863, 1, 1, 0, 0): 'Tenth', datetime.datetime(1865, 1, 1, 0, 0): 'Tenth'}, 'Montana': {datetime.datetime(1889, 1, 1, 0, 0): 'Ninth', datetime.datetime(1890, 1, 1, 0, 0): 'Ninth', datetime.datetime(1900, 1, 1, 0, 0): 'Ninth', datetime.datetime(1912, 1, 1, 0, 0): 'Ninth', datetime.datetime(1951, 1, 1, 0, 0): 'Ninth', datetime.datetime(1959, 1, 1, 0, 0): 'Ninth', datetime.datetime(1977, 1, 1, 0, 0): 'Ninth'}, 'Washington': {datetime.datetime(1889, 1, 1, 0, 0): 'Ninth', datetime.datetime(1890, 1, 1, 0, 0): 'Ninth', datetime.datetime(1900, 1, 1, 0, 0): 'Ninth', datetime.datetime(1912, 1, 1, 0, 0): 'Ninth', datetime.datetime(1951, 1, 1, 0, 0): 'Ninth', datetime.datetime(1959, 1, 1, 0, 0): 'Ninth', datetime.datetime(1977, 1, 1, 0, 0): 'Ninth'}, 'Idaho': {datetime.datetime(1890, 1, 1, 0, 0): 'Ninth', datetime.datetime(1900, 1, 1, 0, 0): 'Ninth', datetime.datetime(1912, 1, 1, 0, 0): 'Ninth', datetime.datetime(1951, 1, 1, 0, 0): 'Ninth', datetime.datetime(1959, 1, 1, 0, 0): 'Ninth', datetime.datetime(1977, 1, 1, 0, 0): 'Ninth'}, ' Alaska': {datetime.datetime(1900, 1, 1, 0, 0): 'Ninth', datetime.datetime(1912, 1, 1, 0, 0): 'Ninth', datetime.datetime(1951, 1, 1, 0, 0): 'Ninth'}, ' Hawaii': {datetime.datetime(1900, 1, 1, 0, 0): 'Ninth', datetime.datetime(1912, 1, 1, 0, 0): 'Ninth', datetime.datetime(1951, 1, 1, 0, 0): 'Ninth'}, 'Arizona': {datetime.datetime(1912, 1, 1, 0, 0): 'Ninth', datetime.datetime(1951, 1, 1, 0, 0): 'Ninth', datetime.datetime(1959, 1, 1, 0, 0): 'Ninth', datetime.datetime(1977, 1, 1, 0, 0): 'Ninth'}, ' Guam': {datetime.datetime(1951, 1, 1, 0, 0): 'Ninth', datetime.datetime(1959, 1, 1, 0, 0): 'Ninth', datetime.datetime(1977, 1, 1, 0, 0): 'Ninth'}, 'Alaska': {datetime.datetime(1959, 1, 1, 0, 0): 'Ninth', datetime.datetime(1977, 1, 1, 0, 0): 'Ninth'}, 'Hawaii': {datetime.datetime(1959, 1, 1, 0, 0): 'Ninth', datetime.datetime(1977, 1, 1, 0, 0): 'Ninth'}, ' Northern Mariana Islands': {datetime.datetime(1977, 1, 1, 0, 0): 'Ninth'}, 'Tenth Circuit abolished': {datetime.datetime(1866, 1, 1, 0, 0): 'Tenth'}}\n"
     ]
    }
   ],
   "source": [
    "import re\n",
    "from datetime import datetime\n",
    "import dateutil\n",
    "\n",
    "circuitHistory = {}\n",
    "\n",
    "def formatState(s):\n",
    "    s = s.strip().replace(\"District of \", \"\").replace(\"Territory of\", \"\").replace(\" the\", \"\")\\\n",
    "    .replace(\" (encompassing the Territory Northwest of the Ohio and the Indiana Territory)\", \"\")\n",
    "    return s\n",
    "    \n",
    "def parseCircuitList(s):\n",
    "    \"\"\"\n",
    "    Parses lists of states' judicial circuit assignments, scraped from\n",
    "    https://www.fjc.gov/history/administration/federal-judicial-circuits.\n",
    "    Output is a list of years with the corresponding circuit the court was assigned\n",
    "    to in that year.\n",
    "    \"\"\"\n",
    "    \n",
    "    year = s.split(\": \")\n",
    "    states = year[1].split(\". (\")\n",
    "    year = dateutil.parser.parse(year[0] + \"-01-01\") # TODO: add the correct dates, not January 1\n",
    "    citation = re.search('(\\d+ Stat\\. \\d+)', states[1])\n",
    "    states = [formatState(state) for state in states[0].split(\",\")]\n",
    "    return [(state, year) for state in states]\n",
    "    \n",
    "for o in ordinals:\n",
    "    soup = loadFJCPage(o)\n",
    "    a = soup.find_all('li', attrs={'class': None}, string=re.compile(\":\"))\n",
    "    for line in a:\n",
    "        entries = parseCircuitList(line.contents[0].string)\n",
    "        for entry in entries:\n",
    "            if entry[0] not in circuitHistory:\n",
    "                circuitHistory[entry[0]] = {}\n",
    "            circuitHistory[entry[0]][entry[1]] = o.capitalize()\n",
    "        \n",
    "print(circuitHistory)"
   ]
  },
  {
   "cell_type": "code",
   "execution_count": 8,
   "metadata": {},
   "outputs": [
    {
     "data": {
      "text/plain": [
       "'United States District Court for the Northern District of Mississippi'"
      ]
     },
     "execution_count": 8,
     "metadata": {},
     "output_type": "execute_result"
    }
   ],
   "source": [
    "# Turns the CourtListener format of federal court names into the format used by Wikipedia.\n",
    "\n",
    "def longFedCircuitName(fullName):\n",
    "    if fullName.startswith(\"Court of Appeals\"):\n",
    "        fullName = fullName.replace(\"Court of Appeals\", \"United States Court of Appeals\", 1)\n",
    "    fullName = fullName.replace(\"D.C.\", \"District of Columbia\")\n",
    "    return fullName\n",
    "\n",
    "def longFedDistrictName(fullName):\n",
    "    fullName = fullName.strip(\".\").replace(\",\", \" for the\").replace(\"D.\", \"District of\")\\\n",
    "        .replace(\"C.\", \"Central \").replace(\"M.\", \"Middle \").replace(\"U.S.\", \"United States\")\n",
    "    fullName = fullName.replace(\"E.\", \"Eastern \").replace(\"W.\", \"Western \")\\\n",
    "        .replace(\"S.\", \"Southern \").replace(\"N.\", \"Northern \")\n",
    "    fullName = fullName.replace('District Court for the Orleans',\n",
    "                                'District Court for the District of Orleans')\n",
    "    fullName = fullName.replace('District Court for the Virgin Islands', \"District Court of the Virgin Islands\")\n",
    "    if fullName.endswith(\"Guam\"):\n",
    "        return \"District Court of Guam\"\n",
    "    if not fullName.endswith((\"Northern Mariana Islands\",\"Guam\",\"Virgin Islands\")):\n",
    "        if fullName.startswith(\"District Court\"):\n",
    "            fullName = fullName.replace(\"District Court\", \"United States District Court\", 1)\n",
    "    if fullName.startswith(\"Merit Systems\"):\n",
    "        fullName = fullName.replace(\"Merit Systems\", \"United States Merit Systems\", 1)\n",
    "    return fullName\n",
    "\n",
    "def longFedCourtName(fullName, j):\n",
    "    assert j in ('F', 'FD', 'FS')\n",
    "    if j in ('FD', 'FS'):\n",
    "        return longFedDistrictName(fullName)\n",
    "    if j == 'F':\n",
    "        return longFedCircuitName(fullName)\n",
    "\n",
    "longFedCourtName('District Court, N.D. Mississippi', 'FD')"
   ]
  },
  {
   "cell_type": "code",
   "execution_count": 9,
   "metadata": {
    "collapsed": true
   },
   "outputs": [],
   "source": [
    "import json, os\n",
    "\n",
    "foldername = \"./courts-all/\"\n",
    "\n",
    "courts = []\n",
    "\n",
    "for dirpath, dirnames, filenames in os.walk(foldername):\n",
    "    for filename in filenames:\n",
    "        source = foldername + filename\n",
    "        markup = open(source)\n",
    "        court = json.load(markup)\n",
    "        if \"jurisdiction\" in court:\n",
    "            if court['citation_string'] in ('Mo. S.D.', 'C.D. Mo.'):\n",
    "                court['jurisdiction'] = 'SA' # correcting an error in Courtlistener data, they're state courts.\n",
    "            if court['jurisdiction'] in ('F', 'FD', 'FS'): # will need to import other kinds of courts later\n",
    "                courts.append(court)\n",
    "\n",
    "cd = {}\n",
    "                \n",
    "for court in courts:\n",
    "    cd[longFedCourtName(court['full_name'], court['jurisdiction'])] = court\n"
   ]
  },
  {
   "cell_type": "code",
   "execution_count": 10,
   "metadata": {},
   "outputs": [
    {
     "data": {
      "text/plain": [
       "{'citation_string': 'S.D. Tex.',\n",
       " 'date_modified': '2013-10-22T15:56:25.488000Z',\n",
       " 'end_date': None,\n",
       " 'full_name': 'District Court, S.D. Texas',\n",
       " 'has_opinion_scraper': False,\n",
       " 'has_oral_argument_scraper': False,\n",
       " 'in_use': True,\n",
       " 'jurisdiction': 'FD',\n",
       " 'position': 250.5,\n",
       " 'resource_uri': 'http://www.courtlistener.com/api/rest/v3/courts/txsd/',\n",
       " 'short_name': 'S.D. Texas',\n",
       " 'start_date': None,\n",
       " 'url': 'http://www.txs.uscourts.gov/'}"
      ]
     },
     "execution_count": 10,
     "metadata": {},
     "output_type": "execute_result"
    }
   ],
   "source": [
    "cd[\"United States District Court for the Southern District of Texas\"]"
   ]
  },
  {
   "cell_type": "code",
   "execution_count": 11,
   "metadata": {},
   "outputs": [],
   "source": [
    "# importing these abbreviations to generate abbreviated names for courts that don't have them.\n",
    "\n",
    "import json\n",
    "\n",
    "with open(\"state_abbreviations.json\") as json_data:\n",
    "    sd = json.load(json_data)\n",
    "    json_data.close()\n",
    "    "
   ]
  },
  {
   "cell_type": "code",
   "execution_count": 12,
   "metadata": {},
   "outputs": [
    {
     "data": {
      "text/plain": [
       "'D. Miss.'"
      ]
     },
     "execution_count": 12,
     "metadata": {},
     "output_type": "execute_result"
    }
   ],
   "source": [
    "def make_citation_string(name, sd):\n",
    "    for state in sd:\n",
    "        name = name.replace(state, sd[state]['AP'])\n",
    "    return name\n",
    "\n",
    "make_citation_string(\"D. Mississippi\", sd)"
   ]
  },
  {
   "cell_type": "code",
   "execution_count": 13,
   "metadata": {},
   "outputs": [],
   "source": [
    "for i in cd:\n",
    "    if cd[i][\"citation_string\"] == \"\":\n",
    "        cd[i][\"citation_string\"] = make_citation_string(cd[i][\"short_name\"], sd)\n"
   ]
  },
  {
   "cell_type": "code",
   "execution_count": 14,
   "metadata": {
    "collapsed": true
   },
   "outputs": [],
   "source": [
    "defunctSoup = loadWikiPage(\"List_of_former_United_States_district_courts\")"
   ]
  },
  {
   "cell_type": "code",
   "execution_count": 15,
   "metadata": {},
   "outputs": [
    {
     "name": "stdout",
     "output_type": "stream",
     "text": [
      "['Alabama', 'Arkansas', 'California', 'Florida', 'Georgia', 'Illinois', 'Indiana', 'Iowa', 'Kentucky', 'Louisiana', 'Michigan', 'Mississippi', 'Missouri', 'New Jersey', 'New York', 'North Carolina', 'Ohio', 'Pennsylvania', 'South Carolina', 'Tennessee', 'Texas', 'Virginia', 'Washington', 'West Virginia', 'Wisconsin']\n"
     ]
    }
   ],
   "source": [
    "courtStates = []\n",
    "\n",
    "headings = defunctSoup.find_all(\"h2\")\n",
    "for heading in headings[:-3]: # The later headings aren't states\n",
    "    if heading.span:\n",
    "        courtStates.append(heading.span.contents[0])\n",
    "\n",
    "print(courtStates)        "
   ]
  },
  {
   "cell_type": "code",
   "execution_count": 16,
   "metadata": {
    "collapsed": true,
    "scrolled": true
   },
   "outputs": [],
   "source": [
    "def getCourtDates(table):\n",
    "    \"\"\"\n",
    "    Returns a tuple with a defunct court's start and end dates from a table scraped from\n",
    "    https://en.wikipedia.org/wiki/List_of_former_United_States_district_courts. Assumes that the beginning of the\n",
    "    first judge's service is the start date and end of the last judge's service is the end date.\n",
    "    \"\"\"\n",
    "    startcolumn = None\n",
    "    header = \"td\"\n",
    "    for i in range(4):\n",
    "        if str(table.find_all(header)[i].contents[0]).__contains__(\"Began active\"):\n",
    "            startcolumn = i\n",
    "    if startcolumn:\n",
    "        rows = table.find_all(\"tr\")[1:]\n",
    "        startdates = [dateutil.parser.parse(row.find_all(\"td\")[startcolumn].find_all(\"span\")[1].contents[0]) for row in rows]\n",
    "        enddates = [dateutil.parser.parse(row.find_all(\"td\")[startcolumn + 1].find_all(\"span\")[1].contents[0]) for row in rows]\n",
    "        return (min(startdates), max(enddates), )\n",
    "    else:\n",
    "        # print(str(table.find_all(header)[i].contents[0]))\n",
    "        return None\n",
    "\n",
    "def getCourtName(table, stateList):\n",
    "    name = None\n",
    "    links = table.parent.find_all(\"a\")\n",
    "    i = 0\n",
    "    while name == None:\n",
    "        if links[i].contents != []:\n",
    "            if links[i].contents[0] in stateList:\n",
    "                name = links[i].contents[0]\n",
    "        i += 1\n",
    "    return name\n",
    "\n",
    "courtDates = {}\n",
    "\n",
    "tables = defunctSoup.find_all(\"table\")\n",
    "for table in tables:\n",
    "    dates = getCourtDates(table)\n",
    "    if dates != None:\n",
    "        if getCourtName(table, courtStates) != \"South Carolina\": # Court by this name isn't defunct\n",
    "            courtDates[\"United States District Court for the District of \" + getCourtName(table, courtStates)] = {\n",
    "            \"start_date\": datetime.strftime(dates[0], '%Y-%m-%d'),\n",
    "            \"end_date\": datetime.strftime(dates[1], '%Y-%m-%d')    \n",
    "            }"
   ]
  },
  {
   "cell_type": "code",
   "execution_count": 17,
   "metadata": {},
   "outputs": [
    {
     "name": "stdout",
     "output_type": "stream",
     "text": [
      "United States District Court for the District of Arkansas not found\n"
     ]
    }
   ],
   "source": [
    "for court in courtDates.keys():\n",
    "    if court in cd.keys():\n",
    "        if cd[court][\"start_date\"] == \"\" or \"None\" or None:\n",
    "            cd[court][\"start_date\"] = courtDates[court][\"start_date\"]\n",
    "        if cd[court][\"end_date\"] == \"\" or \"None\" or None:\n",
    "            cd[court][\"end_date\"] = courtDates[court][\"end_date\"]\n",
    "    else:\n",
    "        print(str(court + \" not found\"))"
   ]
  },
  {
   "cell_type": "code",
   "execution_count": 18,
   "metadata": {
    "collapsed": true
   },
   "outputs": [],
   "source": [
    "# Adding info on defunct courts not covered by the Wikipedia table scraped above\n",
    "\n",
    "\n",
    "defunctAppeals = {\n",
    "                 # \"United States District Court for the District of California\": \"Supreme Court of the United States\",\n",
    "                 \"Emergency Court of Appeals\": \"Supreme Court of the United States\",\n",
    "                 'Court of Customs and Patent Appeals': \"Supreme Court of the United States\",\n",
    "                 'Temporary Emergency Court of Appeals': \"Supreme Court of the United States\",\n",
    "                 'United States Customs Court': 'United States Court of Appeals for the Federal Circuit',\n",
    "                 'Commerce Court': \"Supreme Court of the United States\",\n",
    "                 \"United States Court of Claims\": \"Supreme Court of the United States\",\n",
    "                 \"Special Court under the Regional Rail Reorganization Act\": \"Supreme Court of the United States\",\n",
    "                 \"United States District Court for the District of Orleans\": \"Supreme Court of the United States\"\n",
    "                }\n",
    "                 \n",
    "                 # 'United States District Court for the District of Mississippi': \"Supreme Court of the United States\",\n",
    "                 # the District of Missouri was assigned to the Eighth Circuit on March 3, 1837.\n",
    "                 # \"United States District Court for the District of Missouri\": \"United States Court of Appeals for the Eighth Circuit\",\n",
    "                 # \"United States District Court for the District of New York\": \"United States Court of Appeals for the Second Circuit\"}\n",
    "\n",
    "# Non-defunct courts not listed in the Wikipedia table for whatever reason.\n",
    "\n",
    "otherAppeals = {\"Navy-Marine Corps Court of Criminal Appeals\": \"Court of Appeals for the Armed Forces\",\n",
    "                \"Army Court of Criminal Appeals\": \"Court of Appeals for the Armed Forces\",\n",
    "                \"United States Air Force Court of Criminal Appeals\": \"Court of Appeals for the Armed Forces\",\n",
    "                \"United States Court of Military Commission Review\": 'United States District Court for the District of Columbia',\n",
    "                \"Board of Veterans' Appeals\": \"United States Court of Appeals for Veterans Claims\",\n",
    "                \"Foreign Intelligence Surveillance Court\": \"Foreign Intelligence Surveillance Court of Review\",\n",
    "                \"Foreign Intelligence Surveillance Court of Review\": \"Supreme Court of the United States\",\n",
    "                # The Tax Court's appeals don't go to the Supreme Court, but to any geographic circuit.\n",
    "                # I don't know whether it has to follow the law of the litigant's circuit, but probably so.\n",
    "                \"United States Tax Court\": \"Supreme Court of the United States\",\n",
    "                \"Court of Appeals for the Armed Forces\": \"Supreme Court of the United States\"}\n",
    "\n",
    "for item in defunctAppeals:\n",
    "    cd[item]['reviewed_by'] = defunctAppeals[item]\n",
    "\n",
    "for item in otherAppeals:\n",
    "    cd[item]['reviewed_by'] = otherAppeals[item]"
   ]
  },
  {
   "cell_type": "code",
   "execution_count": 19,
   "metadata": {},
   "outputs": [
    {
     "data": {
      "text/plain": [
       "{'Armed Services Board of Contract Appeals': 'United States Court of Appeals for the Federal Circuit',\n",
       " 'Bureau of Justice Assistance': 'United States Court of Appeals for the Federal Circuit',\n",
       " 'Civilian Board of Contract Appeals': 'United States Court of Appeals for the Federal Circuit',\n",
       " 'District Court for the Northern Mariana Islands': 'United States Court of Appeals for the Ninth Circuit',\n",
       " 'District Court of Guam': 'United States Court of Appeals for the Ninth Circuit',\n",
       " 'District Court of the Virgin Islands': 'United States Court of Appeals for the Third Circuit',\n",
       " 'Government Accountability Office': 'United States Court of Appeals for the Federal Circuit',\n",
       " 'Patent Trial and Appeal Board': 'United States Court of Appeals for the Federal Circuit',\n",
       " 'Trademark Trial and Appeal Board': 'United States Court of Appeals for the Federal Circuit',\n",
       " 'United States Congress Office of Compliance': 'United States Court of Appeals for the Federal Circuit',\n",
       " 'United States Court of Appeals for Veterans Claims': 'United States Court of Appeals for the Federal Circuit',\n",
       " 'United States Court of Appeals for the District of Columbia Circuit': 'Supreme Court of the United States',\n",
       " 'United States Court of Appeals for the Eighth Circuit': 'Supreme Court of the United States',\n",
       " 'United States Court of Appeals for the Eleventh Circuit': 'Supreme Court of the United States',\n",
       " 'United States Court of Appeals for the Federal Circuit': 'Supreme Court of the United States',\n",
       " 'United States Court of Appeals for the Fifth Circuit': 'Supreme Court of the United States',\n",
       " 'United States Court of Appeals for the First Circuit': 'Supreme Court of the United States',\n",
       " 'United States Court of Appeals for the Fourth Circuit': 'Supreme Court of the United States',\n",
       " 'United States Court of Appeals for the Ninth Circuit': 'Supreme Court of the United States',\n",
       " 'United States Court of Appeals for the Second Circuit': 'Supreme Court of the United States',\n",
       " 'United States Court of Appeals for the Seventh Circuit': 'Supreme Court of the United States',\n",
       " 'United States Court of Appeals for the Sixth Circuit': 'Supreme Court of the United States',\n",
       " 'United States Court of Appeals for the Tenth Circuit': 'Supreme Court of the United States',\n",
       " 'United States Court of Appeals for the Third Circuit': 'Supreme Court of the United States',\n",
       " 'United States Court of Federal Claims': 'United States Court of Appeals for the Federal Circuit',\n",
       " 'United States Court of International Trade': 'United States Court of Appeals for the Federal Circuit',\n",
       " 'United States District Court for the Central District of California': 'United States Court of Appeals for the Ninth Circuit',\n",
       " 'United States District Court for the Central District of Illinois': 'United States Court of Appeals for the Seventh Circuit',\n",
       " 'United States District Court for the District of Alaska': 'United States Court of Appeals for the Ninth Circuit',\n",
       " 'United States District Court for the District of Arizona': 'United States Court of Appeals for the Ninth Circuit',\n",
       " 'United States District Court for the District of Colorado': 'United States Court of Appeals for the Tenth Circuit',\n",
       " 'United States District Court for the District of Columbia': 'United States Court of Appeals for the District of Columbia Circuit',\n",
       " 'United States District Court for the District of Connecticut': 'United States Court of Appeals for the Second Circuit',\n",
       " 'United States District Court for the District of Delaware': 'United States Court of Appeals for the Third Circuit',\n",
       " 'United States District Court for the District of Hawaii': 'United States Court of Appeals for the Ninth Circuit',\n",
       " 'United States District Court for the District of Idaho': 'United States Court of Appeals for the Ninth Circuit',\n",
       " 'United States District Court for the District of Kansas': 'United States Court of Appeals for the Tenth Circuit',\n",
       " 'United States District Court for the District of Maine': 'United States Court of Appeals for the First Circuit',\n",
       " 'United States District Court for the District of Maryland': 'United States Court of Appeals for the Fourth Circuit',\n",
       " 'United States District Court for the District of Massachusetts': 'United States Court of Appeals for the First Circuit',\n",
       " 'United States District Court for the District of Minnesota': 'United States Court of Appeals for the Eighth Circuit',\n",
       " 'United States District Court for the District of Montana': 'United States Court of Appeals for the Ninth Circuit',\n",
       " 'United States District Court for the District of Nebraska': 'United States Court of Appeals for the Eighth Circuit',\n",
       " 'United States District Court for the District of Nevada': 'United States Court of Appeals for the Ninth Circuit',\n",
       " 'United States District Court for the District of New Hampshire': 'United States Court of Appeals for the First Circuit',\n",
       " 'United States District Court for the District of New Jersey': 'United States Court of Appeals for the Third Circuit',\n",
       " 'United States District Court for the District of New Mexico': 'United States Court of Appeals for the Tenth Circuit',\n",
       " 'United States District Court for the District of North Dakota': 'United States Court of Appeals for the Eighth Circuit',\n",
       " 'United States District Court for the District of Oregon': 'United States Court of Appeals for the Ninth Circuit',\n",
       " 'United States District Court for the District of Puerto Rico': 'United States Court of Appeals for the First Circuit',\n",
       " 'United States District Court for the District of Rhode Island': 'United States Court of Appeals for the First Circuit',\n",
       " 'United States District Court for the District of South Carolina': 'United States Court of Appeals for the Fourth Circuit',\n",
       " 'United States District Court for the District of South Dakota': 'United States Court of Appeals for the Eighth Circuit',\n",
       " 'United States District Court for the District of Utah': 'United States Court of Appeals for the Tenth Circuit',\n",
       " 'United States District Court for the District of Vermont': 'United States Court of Appeals for the Second Circuit',\n",
       " 'United States District Court for the District of Wyoming': 'United States Court of Appeals for the Tenth Circuit',\n",
       " 'United States District Court for the Eastern District of Arkansas': 'United States Court of Appeals for the Eighth Circuit',\n",
       " 'United States District Court for the Eastern District of California': 'United States Court of Appeals for the Ninth Circuit',\n",
       " 'United States District Court for the Eastern District of Kentucky': 'United States Court of Appeals for the Sixth Circuit',\n",
       " 'United States District Court for the Eastern District of Louisiana': 'United States Court of Appeals for the Fifth Circuit',\n",
       " 'United States District Court for the Eastern District of Michigan': 'United States Court of Appeals for the Sixth Circuit',\n",
       " 'United States District Court for the Eastern District of Missouri': 'United States Court of Appeals for the Eighth Circuit',\n",
       " 'United States District Court for the Eastern District of New York': 'United States Court of Appeals for the Second Circuit',\n",
       " 'United States District Court for the Eastern District of North Carolina': 'United States Court of Appeals for the Fourth Circuit',\n",
       " 'United States District Court for the Eastern District of Oklahoma': 'United States Court of Appeals for the Tenth Circuit',\n",
       " 'United States District Court for the Eastern District of Pennsylvania': 'United States Court of Appeals for the Third Circuit',\n",
       " 'United States District Court for the Eastern District of Tennessee': 'United States Court of Appeals for the Sixth Circuit',\n",
       " 'United States District Court for the Eastern District of Texas': 'United States Court of Appeals for the Fifth Circuit',\n",
       " 'United States District Court for the Eastern District of Virginia': 'United States Court of Appeals for the Fourth Circuit',\n",
       " 'United States District Court for the Eastern District of Washington': 'United States Court of Appeals for the Ninth Circuit',\n",
       " 'United States District Court for the Eastern District of Wisconsin': 'United States Court of Appeals for the Seventh Circuit',\n",
       " 'United States District Court for the Middle District of Alabama': 'United States Court of Appeals for the Eleventh Circuit',\n",
       " 'United States District Court for the Middle District of Florida': 'United States Court of Appeals for the Eleventh Circuit',\n",
       " 'United States District Court for the Middle District of Georgia': 'United States Court of Appeals for the Eleventh Circuit',\n",
       " 'United States District Court for the Middle District of Louisiana': 'United States Court of Appeals for the Fifth Circuit',\n",
       " 'United States District Court for the Middle District of North Carolina': 'United States Court of Appeals for the Fourth Circuit',\n",
       " 'United States District Court for the Middle District of Pennsylvania': 'United States Court of Appeals for the Third Circuit',\n",
       " 'United States District Court for the Middle District of Tennessee': 'United States Court of Appeals for the Sixth Circuit',\n",
       " 'United States District Court for the Northern District of Alabama': 'United States Court of Appeals for the Eleventh Circuit',\n",
       " 'United States District Court for the Northern District of California': 'United States Court of Appeals for the Ninth Circuit',\n",
       " 'United States District Court for the Northern District of Florida': 'United States Court of Appeals for the Eleventh Circuit',\n",
       " 'United States District Court for the Northern District of Georgia': 'United States Court of Appeals for the Eleventh Circuit',\n",
       " 'United States District Court for the Northern District of Illinois': 'United States Court of Appeals for the Seventh Circuit',\n",
       " 'United States District Court for the Northern District of Indiana': 'United States Court of Appeals for the Seventh Circuit',\n",
       " 'United States District Court for the Northern District of Iowa': 'United States Court of Appeals for the Eighth Circuit',\n",
       " 'United States District Court for the Northern District of Mississippi': 'United States Court of Appeals for the Fifth Circuit',\n",
       " 'United States District Court for the Northern District of New York': 'United States Court of Appeals for the Second Circuit',\n",
       " 'United States District Court for the Northern District of Ohio': 'United States Court of Appeals for the Sixth Circuit',\n",
       " 'United States District Court for the Northern District of Oklahoma': 'United States Court of Appeals for the Tenth Circuit',\n",
       " 'United States District Court for the Northern District of Texas': 'United States Court of Appeals for the Fifth Circuit',\n",
       " 'United States District Court for the Northern District of West Virginia': 'United States Court of Appeals for the Fourth Circuit',\n",
       " 'United States District Court for the Southern District of Alabama': 'United States Court of Appeals for the Eleventh Circuit',\n",
       " 'United States District Court for the Southern District of California': 'United States Court of Appeals for the Ninth Circuit',\n",
       " 'United States District Court for the Southern District of Florida': 'United States Court of Appeals for the Eleventh Circuit',\n",
       " 'United States District Court for the Southern District of Georgia': 'United States Court of Appeals for the Eleventh Circuit',\n",
       " 'United States District Court for the Southern District of Illinois': 'United States Court of Appeals for the Seventh Circuit',\n",
       " 'United States District Court for the Southern District of Indiana': 'United States Court of Appeals for the Seventh Circuit',\n",
       " 'United States District Court for the Southern District of Iowa': 'United States Court of Appeals for the Eighth Circuit',\n",
       " 'United States District Court for the Southern District of Mississippi': 'United States Court of Appeals for the Fifth Circuit',\n",
       " 'United States District Court for the Southern District of New York': 'United States Court of Appeals for the Second Circuit',\n",
       " 'United States District Court for the Southern District of Ohio': 'United States Court of Appeals for the Sixth Circuit',\n",
       " 'United States District Court for the Southern District of Texas': 'United States Court of Appeals for the Fifth Circuit',\n",
       " 'United States District Court for the Southern District of West Virginia': 'United States Court of Appeals for the Fourth Circuit',\n",
       " 'United States District Court for the Western District of Arkansas': 'United States Court of Appeals for the Eighth Circuit',\n",
       " 'United States District Court for the Western District of Kentucky': 'United States Court of Appeals for the Sixth Circuit',\n",
       " 'United States District Court for the Western District of Louisiana': 'United States Court of Appeals for the Fifth Circuit',\n",
       " 'United States District Court for the Western District of Michigan': 'United States Court of Appeals for the Sixth Circuit',\n",
       " 'United States District Court for the Western District of Missouri': 'United States Court of Appeals for the Eighth Circuit',\n",
       " 'United States District Court for the Western District of New York': 'United States Court of Appeals for the Second Circuit',\n",
       " 'United States District Court for the Western District of North Carolina': 'United States Court of Appeals for the Fourth Circuit',\n",
       " 'United States District Court for the Western District of Oklahoma': 'United States Court of Appeals for the Tenth Circuit',\n",
       " 'United States District Court for the Western District of Pennsylvania': 'United States Court of Appeals for the Third Circuit',\n",
       " 'United States District Court for the Western District of Tennessee': 'United States Court of Appeals for the Sixth Circuit',\n",
       " 'United States District Court for the Western District of Texas': 'United States Court of Appeals for the Fifth Circuit',\n",
       " 'United States District Court for the Western District of Virginia': 'United States Court of Appeals for the Fourth Circuit',\n",
       " 'United States District Court for the Western District of Washington': 'United States Court of Appeals for the Ninth Circuit',\n",
       " 'United States District Court for the Western District of Wisconsin': 'United States Court of Appeals for the Seventh Circuit',\n",
       " 'United States International Trade Commission': 'United States Court of Appeals for the Federal Circuit',\n",
       " 'United States Merit Systems Protection Board': 'United States Court of Appeals for the Federal Circuit'}"
      ]
     },
     "execution_count": 19,
     "metadata": {},
     "output_type": "execute_result"
    }
   ],
   "source": [
    "appealsTo"
   ]
  },
  {
   "cell_type": "code",
   "execution_count": 20,
   "metadata": {},
   "outputs": [
    {
     "data": {
      "text/plain": [
       "{'citation_string': 'SCOTUS',\n",
       " 'date_modified': '2014-10-31T01:59:15.952000Z',\n",
       " 'end_date': None,\n",
       " 'full_name': 'Supreme Court of the United States',\n",
       " 'has_opinion_scraper': True,\n",
       " 'has_oral_argument_scraper': True,\n",
       " 'in_use': True,\n",
       " 'jurisdiction': 'F',\n",
       " 'position': 1.0,\n",
       " 'resource_uri': 'http://www.courtlistener.com/api/rest/v3/courts/scotus/',\n",
       " 'short_name': 'Supreme Court',\n",
       " 'start_date': '1789-09-24',\n",
       " 'url': 'http://supremecourt.gov/'}"
      ]
     },
     "execution_count": 20,
     "metadata": {},
     "output_type": "execute_result"
    }
   ],
   "source": [
    "cd[\"Supreme Court of the United States\"]"
   ]
  },
  {
   "cell_type": "code",
   "execution_count": 21,
   "metadata": {},
   "outputs": [
    {
     "data": {
      "text/plain": [
       "'Supreme Court of the United States'"
      ]
     },
     "execution_count": 21,
     "metadata": {},
     "output_type": "execute_result"
    }
   ],
   "source": [
    "from typing import Dict\n",
    "\n",
    "def getLastAppellate(closure: datetime, history: Dict[datetime, str]) -> datetime:\n",
    "    \"\"\"\n",
    "    Take the datetime \"closure\", look up the latest datetime key in \"history\" that's not later than closure,\n",
    "    and return the value for that key.\n",
    "    \"\"\"\n",
    "    if closure <= min(history):\n",
    "        return 'Supreme Court of the United States'\n",
    "    else:\n",
    "        return \"United States Court of Appeals for the {0} Circuit\".format(history[max(year for year in history if year < closure)])\n",
    "\n",
    "getLastAppellate(datetime(1837, 1, 1, 0, 0), circuitHistory[\"Illinois\"])"
   ]
  },
  {
   "cell_type": "code",
   "execution_count": 22,
   "metadata": {
    "collapsed": true,
    "scrolled": true
   },
   "outputs": [],
   "source": [
    "# This is failing because I don't have a way to handle the defunct courts\n",
    "# A comprehensive solution would capture the date range that every court appealed to every other one...\n",
    "# TODO: add WikiData URIs for each court\n",
    "    \n",
    "for court in cd:\n",
    "    if 'reviewed_by' not in cd[court].keys():\n",
    "        if court in ('Supreme Court of the United States', 'United States Attorneys General'):\n",
    "            cd[court]['reviewed_by'] = None\n",
    "        elif court.startswith(\"U.\"): # Only intended to catch circuit courts from before they were numbered\n",
    "            cd[court]['reviewed_by'] = 'Supreme Court of the United States'\n",
    "        elif court in appealsTo:\n",
    "            cd[court]['reviewed_by'] = appealsTo[court]\n",
    "        else:\n",
    "            for length in range(1, 4): # Will overwrite Virginia if West Virginia is also in the list.\n",
    "                stateName = \" \".join(court.rsplit(\" \", length)[-1 * length:])\n",
    "                if stateName in circuitHistory:\n",
    "                    assert cd[court]['end_date'] != None\n",
    "                    cd[court]['reviewed_by'] = getLastAppellate(dateutil.parser.parse(cd[court]['end_date']), \\\n",
    "                                                                circuitHistory[stateName])"
   ]
  },
  {
   "cell_type": "code",
   "execution_count": 23,
   "metadata": {},
   "outputs": [
    {
     "data": {
      "text/plain": [
       "str"
      ]
     },
     "execution_count": 23,
     "metadata": {},
     "output_type": "execute_result"
    }
   ],
   "source": [
    "type(cd['Supreme Court of the United States']['start_date'])"
   ]
  },
  {
   "cell_type": "code",
   "execution_count": 35,
   "metadata": {},
   "outputs": [],
   "source": [
    "# I made up this abbreviation\n",
    "\n",
    "cd['Circuit Court for California'][\"citation_string\"] = \"Cal. Cir.\"\n",
    "\n",
    "# Fixing an apparent Courtlistener data error\n",
    "\n",
    "cd['United States Circuit Court for the District of Tennessee'][\"citation_string\"] = \"Cir. Ct. Tenn.\"\n"
   ]
  },
  {
   "cell_type": "code",
   "execution_count": 25,
   "metadata": {},
   "outputs": [],
   "source": [
    "for i in cd:\n",
    "    if cd[i][\"citation_string\"] == \"\":\n",
    "        print(i)"
   ]
  },
  {
   "cell_type": "code",
   "execution_count": 26,
   "metadata": {
    "collapsed": true
   },
   "outputs": [],
   "source": [
    "from graphviz import Digraph\n",
    "\n",
    "dot = Digraph(comment='Federal Courts')\n",
    "for i in cd:\n",
    "    dot.node(i, cd[i][\"citation_string\"])\n",
    "for i in cd:\n",
    "    try: \n",
    "        if cd[i]['reviewed_by'] != None:\n",
    "            dot.edge(i, cd[i]['reviewed_by'])\n",
    "    except: \n",
    "        print(cd[i])"
   ]
  },
  {
   "cell_type": "code",
   "execution_count": 27,
   "metadata": {},
   "outputs": [
    {
     "data": {
      "text/plain": [
       "'Digraph.gv.pdf'"
      ]
     },
     "execution_count": 27,
     "metadata": {},
     "output_type": "execute_result"
    }
   ],
   "source": [
    "# Makes a very ugly chart\n",
    "\n",
    "dot.render(view=True)"
   ]
  },
  {
   "cell_type": "code",
   "execution_count": 30,
   "metadata": {},
   "outputs": [
    {
     "name": "stdout",
     "output_type": "stream",
     "text": [
      "// Federal Courts\n",
      "digraph {\n",
      "\t\"United States District Court for the Western District of Texas\" [label=\"W.D. Tex.\"]\n",
      "\t\"United States District Court for the Northern District of Indiana\" [label=\"N.D. Ind.\"]\n",
      "\t\"United States District Court for the Southern District of Georgia\" [label=\"S.D. Ga.\"]\n",
      "\t\"United States District Court for the District of California\" [label=\"D. Cal.\"]\n",
      "\t\"United States District Court for the District of Alaska\" [label=\"D. Alaska\"]\n",
      "\t\"United States District Court for the District of Connecticut\" [label=\"D. Conn.\"]\n",
      "\t\"United States District Court for the District of Colorado\" [label=\"D. Colo.\"]\n",
      "\t\"United States District Court for the Middle District of Pennsylvania\" [label=\"M.D. Penn.\"]\n",
      "\t\"United States Merit Systems Protection Board\" [label=MSPB]\n",
      "\t\"United States Court of Appeals for the Tenth Circuit\" [label=\"10th Cir.\"]\n",
      "\t\"Emergency Court of Appeals\" [label=\"Emer. Ct. App.\"]\n",
      "\t\"United States District Court for the District of Delaware\" [label=\"D. Del.\"]\n",
      "\t\"United States District Court for the Southern District of Illinois\" [label=\"S.D. Ill.\"]\n",
      "\t\"Navy-Marine Corps Court of Criminal Appeals\" [label=\"N.M.C.C.A.\"]\n",
      "\t\"Court of Customs and Patent Appeals\" [label=\"C.C.P.A.\"]\n",
      "\t\"United States District Court for the Northern District of Alabama\" [label=\"N.D. Ala.\"]\n",
      "\t\"United States District Court for the District of Kansas\" [label=\"D. Kan.\"]\n",
      "\t\"United States District Court for the Western District of Michigan\" [label=\"W.D. Mich.\"]\n",
      "\t\"United States District Court for the Southern District of Mississippi\" [label=\"S.D. Miss.\"]\n",
      "\t\"United States District Court for the Middle District of Louisiana\" [label=\"M.D. La.\"]\n",
      "\t\"United States District Court for the District of North Dakota\" [label=\"D.N.D.\"]\n",
      "\t\"United States District Court for the Northern District of Texas\" [label=\"N.D. Tex.\"]\n",
      "\t\"United States District Court for the Southern District of New York\" [label=\"S.D.N.Y.\"]\n",
      "\t\"United States District Court for the Western District of North Carolina\" [label=\"W.D.N.C.\"]\n",
      "\t\"United States District Court for the Northern District of Georgia\" [label=\"N.D. Ga.\"]\n",
      "\t\"Temporary Emergency Court of Appeals\" [label=\"Temp. Emerg. Ct. App.\"]\n",
      "\t\"United States District Court for the District of Mississippi\" [label=\"D. Miss.\"]\n",
      "\t\"United States District Court for the Western District of New York\" [label=\"W.D.N.Y.\"]\n",
      "\t\"United States District Court for the Southern District of Indiana\" [label=\"S.D. Ind.\"]\n",
      "\t\"United States District Court for the District of Oregon\" [label=\"D. Or.\"]\n",
      "\t\"United States Court of Federal Claims\" [label=\"Fed. Cl.\"]\n",
      "\t\"Board of Veterans' Appeals\" [label=\"Board of Vet. App.\"]\n",
      "\t\"Foreign Intelligence Surveillance Court\" [label=\"FISA Ct.\"]\n",
      "\t\"United States District Court for the Northern District of Mississippi\" [label=\"N.D. Miss.\"]\n",
      "\t\"District Court of Guam\" [label=\"D. Guam\"]\n",
      "\t\"United States Court of Appeals for the Eleventh Circuit\" [label=\"11th Cir.\"]\n",
      "\t\"United States District Court for the District of Utah\" [label=\"D. Utah\"]\n",
      "\t\"United States District Court for the Northern District of Illinois\" [label=\"N.D. Ill.\"]\n",
      "\t\"United States Court of Appeals for the First Circuit\" [label=\"1st Cir.\"]\n",
      "\t\"Court of Appeals for the Armed Forces\" [label=\"C.A.A.F.\"]\n",
      "\t\"United States District Court for the District of Columbia\" [label=\"D.C.\"]\n",
      "\t\"United States District Court for the Southern District of Alabama\" [label=\"S.D. Ala.\"]\n",
      "\t\"United States District Court for the Northern District of New York\" [label=\"N.D. N.Y.\"]\n",
      "\t\"United States District Court for the Southern District of Texas\" [label=\"S.D. Tex.\"]\n",
      "\t\"United States District Court for the District of Montana\" [label=\"D. Mont.\"]\n",
      "\t\"United States District Court for the District of Missouri\" [label=\"D. Mo.\"]\n",
      "\t\"United States District Court for the Eastern District of Wisconsin\" [label=\"D. Wis.\"]\n",
      "\t\"Armed Services Board of Contract Appeals\" [label=\"A.S.B.C.A.\"]\n",
      "\t\"United States District Court for the District of New York\" [label=\"D. N.Y.\"]\n",
      "\t\"United States District Court for the Western District of Tennessee\" [label=\"W.D. Tenn.\"]\n",
      "\t\"United States District Court for the Central District of California\" [label=\"C.D. Cal.\"]\n",
      "\t\"United States District Court for the District of Louisiana\" [label=\"D. La.\"]\n",
      "\t\"United States Court of Appeals for the Federal Circuit\" [label=\"Fed. Cir.\"]\n",
      "\t\"District Court for the Northern Mariana Islands\" [label=\"N. Mar. I.\"]\n",
      "\t\"United States District Court for the Western District of Oklahoma\" [label=\"W.D. Okla.\"]\n",
      "\t\"Foreign Intelligence Surveillance Court of Review\" [label=\"FISA Ct. Rev.\"]\n",
      "\t\"United States District Court for the District of Michigan\" [label=\"D. Mich.\"]\n",
      "\t\"United States District Court for the Middle District of North Carolina\" [label=\"M.D.N.C.\"]\n",
      "\t\"United States District Court for the Western District of Missouri\" [label=\"W.D. Mo.\"]\n",
      "\t\"United States District Court for the Eastern District of Kentucky\" [label=\"E.D. Ky.\"]\n",
      "\t\"United States District Court for the District of Nebraska\" [label=\"D. Neb.\"]\n",
      "\t\"United States District Court for the Western District of Louisiana\" [label=\"W.D. La.\"]\n",
      "\t\"United States District Court for the District of Texas\" [label=\"D. Texas\"]\n",
      "\t\"United States District Court for the Eastern District of Washington\" [label=\"E.D. Wash.\"]\n",
      "\t\"United States District Court for the Eastern District of South Carolina\" [label=\"E.D.S.C.\"]\n",
      "\t\"United States Circuit Court for the District of Delaware\" [label=\"Cir. Ct. Del.\"]\n",
      "\t\"United States District Court for the Middle District of Alabama\" [label=\"M.D. Ala.\"]\n",
      "\t\"United States District Court for the Northern District of Oklahoma\" [label=\"N.D. Okla.\"]\n",
      "\t\"United States District Court for the Western District of Arkansas\" [label=\"W.D. Ark.\"]\n",
      "\t\"United States Court of Appeals for the Sixth Circuit\" [label=\"6th Cir.\"]\n",
      "\t\"United States District Court for the Southern District of West Virginia\" [label=\"S.D.W. Va\"]\n",
      "\t\"United States District Court for the Western District of Pennsylvania\" [label=\"W.D. Pa.\"]\n",
      "\t\"United States Court of Appeals for the District of Columbia Circuit\" [label=\"D.C. Cir.\"]\n",
      "\t\"United States Court of Claims\" [label=\"Ct. Cl.\"]\n",
      "\t\"United States District Court for the Eastern District of Virginia\" [label=\"E.D. Va.\"]\n",
      "\t\"United States Court of Appeals for the Seventh Circuit\" [label=\"7th Cir.\"]\n",
      "\t\"United States District Court for the Eastern District of California\" [label=\"E.D. Cal.\"]\n",
      "\t\"United States District Court for the Middle District of Tennessee\" [label=\"M.D. Tenn.\"]\n",
      "\t\"United States District Court for the Middle District of Georgia\" [label=\"M.D. Ga.\"]\n",
      "\t\"United States District Court for the District of North Carolina\" [label=\"D. N.C.\"]\n",
      "\t\"United States District Court for the District of Minnesota\" [label=\"D. Minnesota\"]\n",
      "\t\"United States District Court for the District of Alabama\" [label=\"D. Ala.\"]\n",
      "\t\"United States District Court for the District of Indiana\" [label=\"D. Ind.\"]\n",
      "\t\"United States District Court for the District of Virginia\" [label=\"D. Va.\"]\n",
      "\t\"United States District Court for the Northern District of West Virginia\" [label=\"N.D.W. Va.\"]\n",
      "\t\"United States Court of International Trade\" [label=\"Ct. Intl. Trade\"]\n",
      "\t\"United States Court of Military Commission Review\" [label=\"M.C.\"]\n",
      "\t\"Special Court under the Regional Rail Reorganization Act\" [label=\"Regl. Rail Reorg. Act\"]\n",
      "\t\"United States District Court for the Eastern District of Michigan\" [label=\"E.D. Mich.\"]\n",
      "\t\"United States Court of Appeals for the Eighth Circuit\" [label=\"8th Cir.\"]\n",
      "\t\"United States District Court for the District of Georgia\" [label=\"D. Ga.\"]\n",
      "\t\"United States District Court for the District of Pennsylvania\" [label=\"D. Pa.\"]\n",
      "\t\"United States District Court for the District of Nevada\" [label=\"D. Nev.\"]\n",
      "\t\"United States District Court for the District of New Mexico\" [label=\"D.N.M.\"]\n",
      "\t\"United States District Court for the Southern District of Iowa\" [label=\"S.D. Iowa\"]\n",
      "\t\"United States District Court for the Northern District of Florida\" [label=\"N.D. Fla.\"]\n",
      "\t\"United States District Court for the Eastern District of Illinois\" [label=\"E.D. Ill.\"]\n",
      "\t\"United States District Court for the Eastern District of North Carolina\" [label=\"E.D.N.C.\"]\n",
      "\t\"United States District Court for the Eastern District of Texas\" [label=\"E.D. Tex.\"]\n",
      "\t\"United States District Court for the District of South Carolina\" [label=\"D.S.C.\"]\n",
      "\t\"United States District Court for the District of Wisconsin\" [label=\"D. Wis.\"]\n",
      "\t\"United States Court of Appeals for the Fourth Circuit\" [label=\"4th Cir.\"]\n",
      "\t\"United States District Court for the District of Vermont\" [label=\"D. Vt.\"]\n",
      "\t\"United States District Court for the Canal Zone\" [label=\"D.C.Z.\"]\n",
      "\t\"United States District Court for the District of Tennessee\" [label=\"D. Tenn.\"]\n",
      "\t\"United States District Court for the Central District of Illinois\" [label=\"C.D. Ill.\"]\n",
      "\t\"United States Air Force Court of Criminal Appeals\" [label=\"A.F.C.C.A.\"]\n",
      "\t\"United States District Court for the District of Wyoming\" [label=\"D. Wyo.\"]\n",
      "\t\"United States District Court for the Western District of Wisconsin\" [label=\"W.D. Wis.\"]\n",
      "\t\"United States District Court for the Northern District of Iowa\" [label=\"N.D. Iowa\"]\n",
      "\t\"United States District Court for the Southern District of Florida\" [label=\"S.D. Fla.\"]\n",
      "\t\"United States Customs Court\" [label=\"Cust. Ct.\"]\n",
      "\t\"United States Court of Appeals for the Fifth Circuit\" [label=\"5th Cir.\"]\n",
      "\t\"United States District Court for the Eastern District of Tennessee\" [label=\"E.D. Tenn.\"]\n",
      "\t\"Army Court of Criminal Appeals\" [label=\"A.C.C.A.\"]\n",
      "\t\"United States District Court for the Eastern District of New York\" [label=\"E.D.N.Y\"]\n",
      "\t\"United States District Court for the District of Iowa\" [label=\"D. Iowa\"]\n",
      "\t\"United States District Court for the District of Maryland\" [label=\"D. Maryland\"]\n",
      "\t\"United States District Court for the District of Florida\" [label=\"D. Fla.\"]\n",
      "\t\"United States Court of Appeals for the Ninth Circuit\" [label=\"9th Cir.\"]\n",
      "\t\"Commerce Court\" [label=\"Comm. Ct.\"]\n",
      "\t\"District Court of the Virgin Islands\" [label=\"D.V.I.\"]\n",
      "\t\"United States District Court for the Western District of South Carolina\" [label=\"W.D.S.C.\"]\n",
      "\t\"United States District Court for the Western District of Washington\" [label=\"W.D. Wash.\"]\n",
      "\t\"United States Court of Appeals for the Second Circuit\" [label=\"2d Cir.\"]\n",
      "\t\"United States District Court for the Middle District of Florida\" [label=\"M.D. Fla.\"]\n",
      "\t\"United States District Court for the Eastern District of Arkansas\" [label=\"E.D. Ark.\"]\n",
      "\t\"United States District Court for the District of Kentucky\" [label=\"D. Ky.\"]\n",
      "\t\"United States District Court for the District of West Virginia\" [label=\"D. West Va.\"]\n",
      "\t\"United States District Court for the Eastern District of Pennsylvania\" [label=\"E.D. Pa.\"]\n",
      "\t\"United States Court of Appeals for Veterans Claims\" [label=\"Vet. App.\"]\n",
      "\t\"United States District Court for the District of Illinois\" [label=\"D. Ill.\"]\n",
      "\t\"United States District Court for the Southern District of California\" [label=\"S.D. Cal.\"]\n",
      "\t\"United States District Court for the District of Rhode Island\" [label=\"D.R.I.\"]\n",
      "\t\"United States District Court for the District of Orleans\" [label=\"Orleans District Court\"]\n",
      "\t\"United States District Court for the Southern District of Ohio\" [label=\"S.D. Ohio\"]\n",
      "\t\"United States District Court for the Eastern District of Oklahoma\" [label=\"E.D. Okla.\"]\n",
      "\t\"United States District Court for the District of Massachusetts\" [label=\"D. Mass.\"]\n",
      "\t\"United States District Court for the District of Idaho\" [label=\"D. Idaho\"]\n",
      "\t\"United States District Court for the Eastern District of Louisiana\" [label=\"E.D. La.\"]\n",
      "\t\"United States District Court for the District of Arizona\" [label=\"D. Ariz.\"]\n",
      "\t\"United States District Court for the Eastern District of Missouri\" [label=\"E.D. Mo.\"]\n",
      "\t\"United States District Court for the Western District of Kentucky\" [label=\"W.D. Ky.\"]\n",
      "\t\"United States District Court for the District of Maine\" [label=\"D. Me.\"]\n",
      "\t\"United States District Court for the District of South Dakota\" [label=\"D.S.D.\"]\n",
      "\t\"Circuit Court for California\" [label=\"Cal. Cir.\"]\n",
      "\t\"United States Attorneys General\" [label=\"Op. Att’y Gen.\"]\n",
      "\t\"United States District Court for the District of Puerto Rico\" [label=\"D.P.R.\"]\n",
      "\t\"United States District Court for the District of New Hampshire\" [label=\"D.N.H.\"]\n",
      "\t\"United States District Court for the District of Ohio\" [label=\"D. Ohio\"]\n",
      "\t\"United States District Court for the District of Hawaii\" [label=\"D. Haw.\"]\n",
      "\t\"United States District Court for the Northern District of California\" [label=\"N.D. Cal.\"]\n",
      "\t\"United States District Court for the District of Washington\" [label=\"D. Wash.\"]\n",
      "\t\"United States Tax Court\" [label=\"Tax Ct.\"]\n",
      "\t\"United States District Court for the Western District of Virginia\" [label=\"W.D. Va.\"]\n",
      "\t\"Supreme Court of the United States\" [label=SCOTUS]\n",
      "\t\"United States Circuit Court for the District of Tennessee\" [label=\"Cir. Ct. N.C.\"]\n",
      "\t\"United States District Court for the Northern District of Ohio\" [label=\"N.D. Ohio\"]\n",
      "\t\"United States Circuit Court for the District of North Carolina\" [label=\"Cir. Ct. N.C.\"]\n",
      "\t\"United States District Court for the District of New Jersey\" [label=\"D.N.J.\"]\n",
      "\t\"United States Court of Appeals for the Third Circuit\" [label=\"3rd Cir.\"]\n",
      "\t\"United States District Court for the Western District of Texas\" -> \"United States Court of Appeals for the Fifth Circuit\"\n",
      "\t\"United States District Court for the Northern District of Indiana\" -> \"United States Court of Appeals for the Seventh Circuit\"\n",
      "\t\"United States District Court for the Southern District of Georgia\" -> \"United States Court of Appeals for the Eleventh Circuit\"\n",
      "\t\"United States District Court for the District of California\" -> \"United States Court of Appeals for the Ninth Circuit\"\n",
      "\t\"United States District Court for the District of Alaska\" -> \"United States Court of Appeals for the Ninth Circuit\"\n",
      "\t\"United States District Court for the District of Connecticut\" -> \"United States Court of Appeals for the Second Circuit\"\n",
      "\t\"United States District Court for the District of Colorado\" -> \"United States Court of Appeals for the Tenth Circuit\"\n",
      "\t\"United States District Court for the Middle District of Pennsylvania\" -> \"United States Court of Appeals for the Third Circuit\"\n",
      "\t\"United States Merit Systems Protection Board\" -> \"United States Court of Appeals for the Federal Circuit\"\n",
      "\t\"United States Court of Appeals for the Tenth Circuit\" -> \"Supreme Court of the United States\"\n",
      "\t\"Emergency Court of Appeals\" -> \"Supreme Court of the United States\"\n",
      "\t\"United States District Court for the District of Delaware\" -> \"United States Court of Appeals for the Third Circuit\"\n",
      "\t\"United States District Court for the Southern District of Illinois\" -> \"United States Court of Appeals for the Seventh Circuit\"\n",
      "\t\"Navy-Marine Corps Court of Criminal Appeals\" -> \"Court of Appeals for the Armed Forces\"\n",
      "\t\"Court of Customs and Patent Appeals\" -> \"Supreme Court of the United States\"\n",
      "\t\"United States District Court for the Northern District of Alabama\" -> \"United States Court of Appeals for the Eleventh Circuit\"\n",
      "\t\"United States District Court for the District of Kansas\" -> \"United States Court of Appeals for the Tenth Circuit\"\n",
      "\t\"United States District Court for the Western District of Michigan\" -> \"United States Court of Appeals for the Sixth Circuit\"\n",
      "\t\"United States District Court for the Southern District of Mississippi\" -> \"United States Court of Appeals for the Fifth Circuit\"\n",
      "\t\"United States District Court for the Middle District of Louisiana\" -> \"United States Court of Appeals for the Fifth Circuit\"\n",
      "\t\"United States District Court for the District of North Dakota\" -> \"United States Court of Appeals for the Eighth Circuit\"\n",
      "\t\"United States District Court for the Northern District of Texas\" -> \"United States Court of Appeals for the Fifth Circuit\"\n",
      "\t\"United States District Court for the Southern District of New York\" -> \"United States Court of Appeals for the Second Circuit\"\n",
      "\t\"United States District Court for the Western District of North Carolina\" -> \"United States Court of Appeals for the Fourth Circuit\"\n",
      "\t\"United States District Court for the Northern District of Georgia\" -> \"United States Court of Appeals for the Eleventh Circuit\"\n",
      "\t\"Temporary Emergency Court of Appeals\" -> \"Supreme Court of the United States\"\n",
      "\t\"United States District Court for the District of Mississippi\" -> \"United States Court of Appeals for the Ninth Circuit\"\n",
      "\t\"United States District Court for the Western District of New York\" -> \"United States Court of Appeals for the Second Circuit\"\n",
      "\t\"United States District Court for the Southern District of Indiana\" -> \"United States Court of Appeals for the Seventh Circuit\"\n",
      "\t\"United States District Court for the District of Oregon\" -> \"United States Court of Appeals for the Ninth Circuit\"\n",
      "\t\"United States Court of Federal Claims\" -> \"United States Court of Appeals for the Federal Circuit\"\n",
      "\t\"Board of Veterans' Appeals\" -> \"United States Court of Appeals for Veterans Claims\"\n",
      "\t\"Foreign Intelligence Surveillance Court\" -> \"Foreign Intelligence Surveillance Court of Review\"\n",
      "\t\"United States District Court for the Northern District of Mississippi\" -> \"United States Court of Appeals for the Fifth Circuit\"\n",
      "\t\"District Court of Guam\" -> \"United States Court of Appeals for the Ninth Circuit\"\n",
      "\t\"United States Court of Appeals for the Eleventh Circuit\" -> \"Supreme Court of the United States\"\n",
      "\t\"United States District Court for the District of Utah\" -> \"United States Court of Appeals for the Tenth Circuit\"\n",
      "\t\"United States District Court for the Northern District of Illinois\" -> \"United States Court of Appeals for the Seventh Circuit\"\n",
      "\t\"United States Court of Appeals for the First Circuit\" -> \"Supreme Court of the United States\"\n",
      "\t\"Court of Appeals for the Armed Forces\" -> \"Supreme Court of the United States\"\n",
      "\t\"United States District Court for the District of Columbia\" -> \"United States Court of Appeals for the District of Columbia Circuit\"\n",
      "\t\"United States District Court for the Southern District of Alabama\" -> \"United States Court of Appeals for the Eleventh Circuit\"\n",
      "\t\"United States District Court for the Northern District of New York\" -> \"United States Court of Appeals for the Second Circuit\"\n",
      "\t\"United States District Court for the Southern District of Texas\" -> \"United States Court of Appeals for the Fifth Circuit\"\n",
      "\t\"United States District Court for the District of Montana\" -> \"United States Court of Appeals for the Ninth Circuit\"\n",
      "\t\"United States District Court for the District of Missouri\" -> \"United States Court of Appeals for the Eighth Circuit\"\n",
      "\t\"United States District Court for the Eastern District of Wisconsin\" -> \"United States Court of Appeals for the Seventh Circuit\"\n",
      "\t\"Armed Services Board of Contract Appeals\" -> \"United States Court of Appeals for the Federal Circuit\"\n",
      "\t\"United States District Court for the District of New York\" -> \"United States Court of Appeals for the Second Circuit\"\n",
      "\t\"United States District Court for the Western District of Tennessee\" -> \"United States Court of Appeals for the Sixth Circuit\"\n",
      "\t\"United States District Court for the Central District of California\" -> \"United States Court of Appeals for the Ninth Circuit\"\n",
      "\t\"United States District Court for the District of Louisiana\" -> \"United States Court of Appeals for the Fifth Circuit\"\n",
      "\t\"United States Court of Appeals for the Federal Circuit\" -> \"Supreme Court of the United States\"\n",
      "\t\"District Court for the Northern Mariana Islands\" -> \"United States Court of Appeals for the Ninth Circuit\"\n",
      "\t\"United States District Court for the Western District of Oklahoma\" -> \"United States Court of Appeals for the Tenth Circuit\"\n",
      "\t\"Foreign Intelligence Surveillance Court of Review\" -> \"Supreme Court of the United States\"\n",
      "\t\"United States District Court for the District of Michigan\" -> \"United States Court of Appeals for the Seventh Circuit\"\n",
      "\t\"United States District Court for the Middle District of North Carolina\" -> \"United States Court of Appeals for the Fourth Circuit\"\n",
      "\t\"United States District Court for the Western District of Missouri\" -> \"United States Court of Appeals for the Eighth Circuit\"\n",
      "\t\"United States District Court for the Eastern District of Kentucky\" -> \"United States Court of Appeals for the Sixth Circuit\"\n",
      "\t\"United States District Court for the District of Nebraska\" -> \"United States Court of Appeals for the Eighth Circuit\"\n",
      "\t\"United States District Court for the Western District of Louisiana\" -> \"United States Court of Appeals for the Fifth Circuit\"\n",
      "\t\"United States District Court for the District of Texas\" -> \"Supreme Court of the United States\"\n",
      "\t\"United States District Court for the Eastern District of Washington\" -> \"United States Court of Appeals for the Ninth Circuit\"\n",
      "\t\"United States District Court for the Eastern District of South Carolina\" -> \"United States Court of Appeals for the Fourth Circuit\"\n",
      "\t\"United States Circuit Court for the District of Delaware\" -> \"United States Court of Appeals for the Third Circuit\"\n",
      "\t\"United States District Court for the Middle District of Alabama\" -> \"United States Court of Appeals for the Eleventh Circuit\"\n",
      "\t\"United States District Court for the Northern District of Oklahoma\" -> \"United States Court of Appeals for the Tenth Circuit\"\n",
      "\t\"United States District Court for the Western District of Arkansas\" -> \"United States Court of Appeals for the Eighth Circuit\"\n",
      "\t\"United States Court of Appeals for the Sixth Circuit\" -> \"Supreme Court of the United States\"\n",
      "\t\"United States District Court for the Southern District of West Virginia\" -> \"United States Court of Appeals for the Fourth Circuit\"\n",
      "\t\"United States District Court for the Western District of Pennsylvania\" -> \"United States Court of Appeals for the Third Circuit\"\n",
      "\t\"United States Court of Appeals for the District of Columbia Circuit\" -> \"Supreme Court of the United States\"\n",
      "\t\"United States Court of Claims\" -> \"Supreme Court of the United States\"\n",
      "\t\"United States District Court for the Eastern District of Virginia\" -> \"United States Court of Appeals for the Fourth Circuit\"\n",
      "\t\"United States Court of Appeals for the Seventh Circuit\" -> \"Supreme Court of the United States\"\n",
      "\t\"United States District Court for the Eastern District of California\" -> \"United States Court of Appeals for the Ninth Circuit\"\n",
      "\t\"United States District Court for the Middle District of Tennessee\" -> \"United States Court of Appeals for the Sixth Circuit\"\n",
      "\t\"United States District Court for the Middle District of Georgia\" -> \"United States Court of Appeals for the Eleventh Circuit\"\n",
      "\t\"United States District Court for the District of North Carolina\" -> \"United States Court of Appeals for the Fourth Circuit\"\n",
      "\t\"United States District Court for the District of Minnesota\" -> \"United States Court of Appeals for the Eighth Circuit\"\n",
      "\t\"United States District Court for the District of Alabama\" -> \"Supreme Court of the United States\"\n",
      "\t\"United States District Court for the District of Indiana\" -> \"United States Court of Appeals for the Seventh Circuit\"\n",
      "\t\"United States District Court for the District of Virginia\" -> \"United States Court of Appeals for the Fourth Circuit\"\n",
      "\t\"United States District Court for the Northern District of West Virginia\" -> \"United States Court of Appeals for the Fourth Circuit\"\n",
      "\t\"United States Court of International Trade\" -> \"United States Court of Appeals for the Federal Circuit\"\n",
      "\t\"United States Court of Military Commission Review\" -> \"United States District Court for the District of Columbia\"\n",
      "\t\"Special Court under the Regional Rail Reorganization Act\" -> \"Supreme Court of the United States\"\n",
      "\t\"United States District Court for the Eastern District of Michigan\" -> \"United States Court of Appeals for the Sixth Circuit\"\n",
      "\t\"United States Court of Appeals for the Eighth Circuit\" -> \"Supreme Court of the United States\"\n",
      "\t\"United States District Court for the District of Georgia\" -> \"United States Court of Appeals for the Sixth Circuit\"\n",
      "\t\"United States District Court for the District of Pennsylvania\" -> \"United States Court of Appeals for the Third Circuit\"\n",
      "\t\"United States District Court for the District of Nevada\" -> \"United States Court of Appeals for the Ninth Circuit\"\n",
      "\t\"United States District Court for the District of New Mexico\" -> \"United States Court of Appeals for the Tenth Circuit\"\n",
      "\t\"United States District Court for the Southern District of Iowa\" -> \"United States Court of Appeals for the Eighth Circuit\"\n",
      "\t\"United States District Court for the Northern District of Florida\" -> \"United States Court of Appeals for the Eleventh Circuit\"\n",
      "\t\"United States District Court for the Eastern District of Illinois\" -> \"United States Court of Appeals for the Seventh Circuit\"\n",
      "\t\"United States District Court for the Eastern District of North Carolina\" -> \"United States Court of Appeals for the Fourth Circuit\"\n",
      "\t\"United States District Court for the Eastern District of Texas\" -> \"United States Court of Appeals for the Fifth Circuit\"\n",
      "\t\"United States District Court for the District of South Carolina\" -> \"United States Court of Appeals for the Fourth Circuit\"\n",
      "\t\"United States District Court for the District of Wisconsin\" -> \"United States Court of Appeals for the Seventh Circuit\"\n",
      "\t\"United States Court of Appeals for the Fourth Circuit\" -> \"Supreme Court of the United States\"\n",
      "\t\"United States District Court for the District of Vermont\" -> \"United States Court of Appeals for the Second Circuit\"\n",
      "\t\"United States District Court for the Canal Zone\" -> \"United States Court of Appeals for the Fifth Circuit\"\n",
      "\t\"United States District Court for the District of Tennessee\" -> \"United States Court of Appeals for the Sixth Circuit\"\n",
      "\t\"United States District Court for the Central District of Illinois\" -> \"United States Court of Appeals for the Seventh Circuit\"\n",
      "\t\"United States Air Force Court of Criminal Appeals\" -> \"Court of Appeals for the Armed Forces\"\n",
      "\t\"United States District Court for the District of Wyoming\" -> \"United States Court of Appeals for the Tenth Circuit\"\n",
      "\t\"United States District Court for the Western District of Wisconsin\" -> \"United States Court of Appeals for the Seventh Circuit\"\n",
      "\t\"United States District Court for the Northern District of Iowa\" -> \"United States Court of Appeals for the Eighth Circuit\"\n",
      "\t\"United States District Court for the Southern District of Florida\" -> \"United States Court of Appeals for the Eleventh Circuit\"\n",
      "\t\"United States Customs Court\" -> \"United States Court of Appeals for the Federal Circuit\"\n",
      "\t\"United States Court of Appeals for the Fifth Circuit\" -> \"Supreme Court of the United States\"\n",
      "\t\"United States District Court for the Eastern District of Tennessee\" -> \"United States Court of Appeals for the Sixth Circuit\"\n",
      "\t\"Army Court of Criminal Appeals\" -> \"Court of Appeals for the Armed Forces\"\n",
      "\t\"United States District Court for the Eastern District of New York\" -> \"United States Court of Appeals for the Second Circuit\"\n",
      "\t\"United States District Court for the District of Iowa\" -> \"United States Court of Appeals for the Eighth Circuit\"\n",
      "\t\"United States District Court for the District of Maryland\" -> \"United States Court of Appeals for the Fourth Circuit\"\n",
      "\t\"United States District Court for the District of Florida\" -> \"Supreme Court of the United States\"\n",
      "\t\"United States Court of Appeals for the Ninth Circuit\" -> \"Supreme Court of the United States\"\n",
      "\t\"Commerce Court\" -> \"Supreme Court of the United States\"\n",
      "\t\"District Court of the Virgin Islands\" -> \"United States Court of Appeals for the Third Circuit\"\n",
      "\t\"United States District Court for the Western District of South Carolina\" -> \"United States Court of Appeals for the Fourth Circuit\"\n",
      "\t\"United States District Court for the Western District of Washington\" -> \"United States Court of Appeals for the Ninth Circuit\"\n",
      "\t\"United States Court of Appeals for the Second Circuit\" -> \"Supreme Court of the United States\"\n",
      "\t\"United States District Court for the Middle District of Florida\" -> \"United States Court of Appeals for the Eleventh Circuit\"\n",
      "\t\"United States District Court for the Eastern District of Arkansas\" -> \"United States Court of Appeals for the Eighth Circuit\"\n",
      "\t\"United States District Court for the District of Kentucky\" -> \"United States Court of Appeals for the Sixth Circuit\"\n",
      "\t\"United States District Court for the District of West Virginia\" -> \"United States Court of Appeals for the Fourth Circuit\"\n",
      "\t\"United States District Court for the Eastern District of Pennsylvania\" -> \"United States Court of Appeals for the Third Circuit\"\n",
      "\t\"United States Court of Appeals for Veterans Claims\" -> \"United States Court of Appeals for the Federal Circuit\"\n",
      "\t\"United States District Court for the District of Illinois\" -> \"United States Court of Appeals for the Seventh Circuit\"\n",
      "\t\"United States District Court for the Southern District of California\" -> \"United States Court of Appeals for the Ninth Circuit\"\n",
      "\t\"United States District Court for the District of Rhode Island\" -> \"United States Court of Appeals for the First Circuit\"\n",
      "\t\"United States District Court for the District of Orleans\" -> \"Supreme Court of the United States\"\n",
      "\t\"United States District Court for the Southern District of Ohio\" -> \"United States Court of Appeals for the Sixth Circuit\"\n",
      "\t\"United States District Court for the Eastern District of Oklahoma\" -> \"United States Court of Appeals for the Tenth Circuit\"\n",
      "\t\"United States District Court for the District of Massachusetts\" -> \"United States Court of Appeals for the First Circuit\"\n",
      "\t\"United States District Court for the District of Idaho\" -> \"United States Court of Appeals for the Ninth Circuit\"\n",
      "\t\"United States District Court for the Eastern District of Louisiana\" -> \"United States Court of Appeals for the Fifth Circuit\"\n",
      "\t\"United States District Court for the District of Arizona\" -> \"United States Court of Appeals for the Ninth Circuit\"\n",
      "\t\"United States District Court for the Eastern District of Missouri\" -> \"United States Court of Appeals for the Eighth Circuit\"\n",
      "\t\"United States District Court for the Western District of Kentucky\" -> \"United States Court of Appeals for the Sixth Circuit\"\n",
      "\t\"United States District Court for the District of Maine\" -> \"United States Court of Appeals for the First Circuit\"\n",
      "\t\"United States District Court for the District of South Dakota\" -> \"United States Court of Appeals for the Eighth Circuit\"\n",
      "\t\"Circuit Court for California\" -> \"Supreme Court of the United States\"\n",
      "\t\"United States District Court for the District of Puerto Rico\" -> \"United States Court of Appeals for the First Circuit\"\n",
      "\t\"United States District Court for the District of New Hampshire\" -> \"United States Court of Appeals for the First Circuit\"\n",
      "\t\"United States District Court for the District of Ohio\" -> \"United States Court of Appeals for the Seventh Circuit\"\n",
      "\t\"United States District Court for the District of Hawaii\" -> \"United States Court of Appeals for the Ninth Circuit\"\n",
      "\t\"United States District Court for the Northern District of California\" -> \"United States Court of Appeals for the Ninth Circuit\"\n",
      "\t\"United States District Court for the District of Washington\" -> \"United States Court of Appeals for the Ninth Circuit\"\n",
      "\t\"United States Tax Court\" -> \"Supreme Court of the United States\"\n",
      "\t\"United States District Court for the Western District of Virginia\" -> \"United States Court of Appeals for the Fourth Circuit\"\n",
      "\t\"United States Circuit Court for the District of Tennessee\" -> \"United States Court of Appeals for the Sixth Circuit\"\n",
      "\t\"United States District Court for the Northern District of Ohio\" -> \"United States Court of Appeals for the Sixth Circuit\"\n",
      "\t\"United States Circuit Court for the District of North Carolina\" -> \"United States Court of Appeals for the Fourth Circuit\"\n",
      "\t\"United States District Court for the District of New Jersey\" -> \"United States Court of Appeals for the Third Circuit\"\n",
      "\t\"United States Court of Appeals for the Third Circuit\" -> \"Supreme Court of the United States\"\n",
      "}\n"
     ]
    }
   ],
   "source": [
    "print(dot)"
   ]
  }
 ],
 "metadata": {
  "kernelspec": {
   "display_name": "Python 3",
   "language": "python",
   "name": "python3"
  },
  "language_info": {
   "codemirror_mode": {
    "name": "ipython",
    "version": 3
   },
   "file_extension": ".py",
   "mimetype": "text/x-python",
   "name": "python",
   "nbconvert_exporter": "python",
   "pygments_lexer": "ipython3",
   "version": "3.6.1"
  }
 },
 "nbformat": 4,
 "nbformat_minor": 2
}
